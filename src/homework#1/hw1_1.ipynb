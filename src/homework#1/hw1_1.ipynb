{
 "cells": [
  {
   "cell_type": "code",
   "execution_count": 2,
   "id": "daae11f7-ff59-4e79-9e6a-25a9d4c03838",
   "metadata": {},
   "outputs": [],
   "source": [
    "import torch"
   ]
  },
  {
   "cell_type": "code",
   "execution_count": 3,
   "id": "3def0106-fd86-467e-9ffb-5bbbcf0a4851",
   "metadata": {},
   "outputs": [
    {
     "name": "stdout",
     "output_type": "stream",
     "text": [
      "torch.float32\n",
      "cpu\n",
      "False\n",
      "torch.Size([3])\n",
      "torch.Size([3])\n"
     ]
    }
   ],
   "source": [
    "t1 = torch.Tensor([1, 2, 3], device='cpu')\n",
    "print(t1.dtype)   # >>> torch.float32\n",
    "print(t1.device)  # >>> cpu\n",
    "print(t1.requires_grad)  # >>> False\n",
    "print(t1.size())  # torch.Size([3])\n",
    "print(t1.shape)   # torch.Size([3])"
   ]
  },
  {
   "cell_type": "code",
   "execution_count": 4,
   "id": "cbcf0f2e-188b-4b7b-a7f8-87438e266f3c",
   "metadata": {},
   "outputs": [
    {
     "name": "stdout",
     "output_type": "stream",
     "text": [
      "torch.int64\n",
      "cpu\n",
      "False\n",
      "torch.Size([3])\n",
      "torch.Size([3])\n"
     ]
    }
   ],
   "source": [
    "t2 = torch.tensor([1, 2, 3], device='cpu')\n",
    "print(t2.dtype)  # >>> torch.int64\n",
    "print(t2.device)  # >>> cpu\n",
    "print(t2.requires_grad)  # >>> False\n",
    "print(t2.size())  # torch.Size([3])\n",
    "print(t2.shape)  # torch.Size([3])"
   ]
  },
  {
   "attachments": {},
   "cell_type": "markdown",
   "id": "97c005b6-20db-440d-bda8-20d16474d77b",
   "metadata": {},
   "source": [
    "# Pytorch 101 & Recall Linear Algebra"
   ]
  },
  {
   "attachments": {},
   "cell_type": "markdown",
   "id": "68b16379",
   "metadata": {},
   "source": [
    "> basically in the deep learning theory it is based to study many methodologies of deep learning for learning linear algebra theory.\n",
    "\n",
    "> so before studying deep learning, it will be affect to many benefits to understand many techinque to recall linear algebra with application of pytorch. "
   ]
  },
  {
   "attachments": {},
   "cell_type": "markdown",
   "id": "7318649c-b17e-4bd9-9d9c-8b0e8731278e",
   "metadata": {},
   "source": [
    "## Tensor initialization"
   ]
  },
  {
   "cell_type": "code",
   "execution_count": 5,
   "id": "ab851971",
   "metadata": {},
   "outputs": [],
   "source": [
    "import torch\n",
    "import numpy as np"
   ]
  },
  {
   "cell_type": "code",
   "execution_count": 140,
   "id": "cd2cb2aa",
   "metadata": {},
   "outputs": [],
   "source": [
    "def print_info(tensor):\n",
    "    print(\"dtype : \", tensor.dtype)\n",
    "    print(\"element \\n\", tensor)\n",
    "    print(\"dimension : \", tensor.ndim)\n",
    "    print(\"shape : \", tensor.shape)\n",
    "    "
   ]
  },
  {
   "cell_type": "code",
   "execution_count": 7,
   "id": "41a1dcd6",
   "metadata": {},
   "outputs": [
    {
     "name": "stdout",
     "output_type": "stream",
     "text": [
      "dtype :  torch.float32\n",
      "element :  tensor([1., 2., 3.])\n",
      "dimension :  1\n",
      "shape :  torch.Size([3])\n"
     ]
    }
   ],
   "source": [
    "l1 = [1,2,3]\n",
    "t1 = torch.Tensor(l1)\n",
    "print_info(t1)"
   ]
  },
  {
   "cell_type": "code",
   "execution_count": 8,
   "id": "8670c36a",
   "metadata": {},
   "outputs": [
    {
     "name": "stdout",
     "output_type": "stream",
     "text": [
      "dtype :  torch.int64\n",
      "element :  tensor([1, 2, 3])\n",
      "dimension :  1\n",
      "shape :  torch.Size([3])\n"
     ]
    }
   ],
   "source": [
    "l2 = [1,2,3]\n",
    "t2 = torch.tensor(l2)\n",
    "print_info(t2)"
   ]
  },
  {
   "cell_type": "code",
   "execution_count": 9,
   "id": "fd081c2b",
   "metadata": {},
   "outputs": [
    {
     "name": "stdout",
     "output_type": "stream",
     "text": [
      "dtype :  torch.int64\n",
      "element :  tensor([1, 2, 3])\n",
      "dimension :  1\n",
      "shape :  torch.Size([3])\n"
     ]
    }
   ],
   "source": [
    "l3 = [1, 2, 3]\n",
    "t3 = torch.as_tensor(l3)\n",
    "print_info(t3)"
   ]
  },
  {
   "cell_type": "code",
   "execution_count": 10,
   "id": "3c4ff45e",
   "metadata": {},
   "outputs": [],
   "source": [
    "l1[0] = 100\n",
    "l2[0] = 100\n",
    "l3[0] = 100\n"
   ]
  },
  {
   "cell_type": "code",
   "execution_count": 11,
   "id": "cbad25dc",
   "metadata": {},
   "outputs": [
    {
     "name": "stdout",
     "output_type": "stream",
     "text": [
      "dtype :  torch.float32\n",
      "element :  tensor([1., 2., 3.])\n",
      "dimension :  1\n",
      "shape :  torch.Size([3])\n",
      "\n",
      "dtype :  torch.int64\n",
      "element :  tensor([1, 2, 3])\n",
      "dimension :  1\n",
      "shape :  torch.Size([3])\n",
      "\n",
      "dtype :  torch.int64\n",
      "element :  tensor([1, 2, 3])\n",
      "dimension :  1\n",
      "shape :  torch.Size([3])\n"
     ]
    }
   ],
   "source": [
    "print_info(t1)\n",
    "print(\"\")\n",
    "print_info(t2)\n",
    "print(\"\")\n",
    "print_info(t3)\n"
   ]
  },
  {
   "attachments": {},
   "cell_type": "markdown",
   "id": "b93cfc9f",
   "metadata": {},
   "source": [
    "---\n",
    "### check point\n",
    "torch.Tensor -> class\n",
    "- input : int\n",
    "- output : float\n",
    "\n",
    "torch.tensor -> function\n",
    "torch.as_tensor -> function\n",
    "- input : int\n",
    "- ouput : int\n",
    "---"
   ]
  },
  {
   "attachments": {},
   "cell_type": "markdown",
   "id": "9faaf718",
   "metadata": {},
   "source": [
    "## Tensor costnat value initialization "
   ]
  },
  {
   "cell_type": "code",
   "execution_count": 12,
   "id": "e8ee5e13",
   "metadata": {},
   "outputs": [
    {
     "name": "stdout",
     "output_type": "stream",
     "text": [
      "tensor([1., 1., 1., 1., 1.])\n",
      "tensor([1., 1., 1., 1., 1.])\n"
     ]
    }
   ],
   "source": [
    "t1 = torch.ones(size=(5,))  # or torch.ones(5)\n",
    "t1_like = torch.ones_like(input=t1)\n",
    "print(t1)  # >>> tensor([1., 1., 1., 1., 1.])\n",
    "print(t1_like)  # >>> tensor([1., 1., 1., 1., 1.])"
   ]
  },
  {
   "cell_type": "code",
   "execution_count": 13,
   "id": "51bc614d",
   "metadata": {},
   "outputs": [
    {
     "name": "stdout",
     "output_type": "stream",
     "text": [
      "tensor([0., 0., 0., 0., 0., 0.])\n",
      "tensor([0., 0., 0., 0., 0., 0.])\n"
     ]
    }
   ],
   "source": [
    "t2 = torch.zeros(size=(6,))  # or torch.zeros(6)\n",
    "t2_like = torch.zeros_like(input=t2)\n",
    "print(t2)  # >>> tensor([0., 0., 0., 0., 0., 0.])\n",
    "print(t2_like)  # >>> tensor([0., 0., 0., 0., 0., 0.])\n",
    "\n"
   ]
  },
  {
   "cell_type": "code",
   "execution_count": 14,
   "id": "47ac1519",
   "metadata": {},
   "outputs": [
    {
     "name": "stdout",
     "output_type": "stream",
     "text": [
      "tensor([0., 0., 0., 0.])\n",
      "tensor([0., 0., 0., 0.])\n"
     ]
    }
   ],
   "source": [
    "\n",
    "t3 = torch.empty(size=(4,))  # or torch.zeros(4)\n",
    "t3_like = torch.empty_like(input=t3)\n",
    "print(t3)  # >>> tensor([0., 0., 0., 0.])\n",
    "print(t3_like)  # >>> tensor([0., 0., 0., 0.])\n",
    "\n",
    "#empty method creat a tensor without initilizing its value\n"
   ]
  },
  {
   "attachments": {},
   "cell_type": "markdown",
   "id": "6a967f19",
   "metadata": {},
   "source": [
    "`torch.empty()` vs `torch.zeros()`\n",
    "\n",
    "- empty method : creat a tensor without initilizing its value\n",
    "- zeros method : create a tensor with initilizing zero value"
   ]
  },
  {
   "cell_type": "code",
   "execution_count": 15,
   "id": "b1e0d909",
   "metadata": {},
   "outputs": [
    {
     "name": "stdout",
     "output_type": "stream",
     "text": [
      "tensor([[1., 0., 0.],\n",
      "        [0., 1., 0.],\n",
      "        [0., 0., 1.]])\n"
     ]
    }
   ],
   "source": [
    "t4 = torch.eye(n=3)\n",
    "print(t4)"
   ]
  },
  {
   "attachments": {},
   "cell_type": "markdown",
   "id": "3fdfd283",
   "metadata": {},
   "source": [
    "`torch.eye()` function return a 2-D tensor with ones on the diagonal and zeros elsewhere."
   ]
  },
  {
   "attachments": {},
   "cell_type": "markdown",
   "id": "e6a60eb1",
   "metadata": {},
   "source": [
    "## Tensor initilization random values"
   ]
  },
  {
   "attachments": {},
   "cell_type": "markdown",
   "id": "a0658efb",
   "metadata": {},
   "source": [
    "| Function          | Description                                   | Parameters                               |\n",
    "| ----------------- | --------------------------------------------- | ---------------------------------------- |\n",
    "| `torch.randint`   | Generate random integers within a range.     | `low`, `high`, `size`                    |\n",
    "| `torch.rand`      | Generate random numbers from a uniform distribution. | `size`                             |\n",
    "| `torch.randn`     | Generate random numbers from a normal (Gaussian) distribution. | `size`                             |\n",
    "| `torch.normal`    | Generate random numbers from a normal distribution with specified mean and standard deviation. | `mean`, `std`, `size`              |\n",
    "| `torch.linspace`  | Create a tensor of evenly spaced values over a specified range. | `start`, `end`, `steps`            |\n",
    "| `torch.arange`    | Create a tensor with values from a start value to an end value with a specified step size. | `end`, `step`                       |\n",
    "| `torch.manual_seed` | Set the seed for random number generation to ensure reproducibility. | `seed`                               |\n"
   ]
  },
  {
   "attachments": {},
   "cell_type": "markdown",
   "id": "2d2fffb2",
   "metadata": {},
   "source": [
    "torch.randint"
   ]
  },
  {
   "cell_type": "code",
   "execution_count": 16,
   "id": "87ce74c7",
   "metadata": {},
   "outputs": [
    {
     "name": "stdout",
     "output_type": "stream",
     "text": [
      "tensor([[14, 19]])\n"
     ]
    }
   ],
   "source": [
    "t1 = torch.randint(low=10, high=20, size=(1, 2))\n",
    "print(t1)"
   ]
  },
  {
   "attachments": {},
   "cell_type": "markdown",
   "id": "5619e3b8",
   "metadata": {},
   "source": [
    "torch.rand"
   ]
  },
  {
   "cell_type": "code",
   "execution_count": 17,
   "id": "5c7c4ae3",
   "metadata": {},
   "outputs": [
    {
     "name": "stdout",
     "output_type": "stream",
     "text": [
      "tensor([[0.2514, 0.0235, 0.4803]])\n"
     ]
    }
   ],
   "source": [
    "t2 = torch.rand(size=(1, 3))\n",
    "print(t2)\n"
   ]
  },
  {
   "attachments": {},
   "cell_type": "markdown",
   "id": "1f1316b3",
   "metadata": {},
   "source": [
    "torch.randn"
   ]
  },
  {
   "cell_type": "code",
   "execution_count": 18,
   "id": "2e1c01ad",
   "metadata": {},
   "outputs": [
    {
     "name": "stdout",
     "output_type": "stream",
     "text": [
      "tensor([[-0.3926, -0.7575, -0.3954]])\n"
     ]
    }
   ],
   "source": [
    "t3 = torch.randn(size=(1, 3))\n",
    "print(t3)"
   ]
  },
  {
   "attachments": {},
   "cell_type": "markdown",
   "id": "ff1a9e91",
   "metadata": {},
   "source": [
    "torch.normal"
   ]
  },
  {
   "cell_type": "code",
   "execution_count": 19,
   "id": "2d760ad3",
   "metadata": {},
   "outputs": [
    {
     "name": "stdout",
     "output_type": "stream",
     "text": [
      "tensor([[ 9.7490,  9.9106],\n",
      "        [10.8769, 10.6630],\n",
      "        [ 8.9946, 10.9254]])\n"
     ]
    }
   ],
   "source": [
    "t4 = torch.normal(mean=10.0, std=1.0, size=(3, 2))\n",
    "print(t4)\n"
   ]
  },
  {
   "attachments": {},
   "cell_type": "markdown",
   "id": "0ad95c3f",
   "metadata": {},
   "source": [
    "torch.linspace"
   ]
  },
  {
   "cell_type": "code",
   "execution_count": 20,
   "id": "695f8082",
   "metadata": {},
   "outputs": [
    {
     "name": "stdout",
     "output_type": "stream",
     "text": [
      "tensor([0.0000, 2.5000, 5.0000])\n"
     ]
    }
   ],
   "source": [
    "t5 = torch.linspace(start=0.0, end=5.0, steps=3)\n",
    "print(t5)\n"
   ]
  },
  {
   "attachments": {},
   "cell_type": "markdown",
   "id": "b5c8b9a0",
   "metadata": {},
   "source": [
    "torch.arange"
   ]
  },
  {
   "cell_type": "code",
   "execution_count": 21,
   "id": "232b5824",
   "metadata": {},
   "outputs": [
    {
     "name": "stdout",
     "output_type": "stream",
     "text": [
      "tensor([0, 1, 2, 3, 4])\n"
     ]
    }
   ],
   "source": [
    "t6 = torch.arange(5)\n",
    "print(t6)"
   ]
  },
  {
   "attachments": {},
   "cell_type": "markdown",
   "id": "960c7533",
   "metadata": {},
   "source": [
    "torch.manual_seed"
   ]
  },
  {
   "cell_type": "code",
   "execution_count": 22,
   "id": "95c4d7f2",
   "metadata": {},
   "outputs": [
    {
     "name": "stdout",
     "output_type": "stream",
     "text": [
      "tensor([[0.3126, 0.3791, 0.3087],\n",
      "        [0.0736, 0.4216, 0.0691]])\n",
      "tensor([[0.2332, 0.4047, 0.2162],\n",
      "        [0.9927, 0.4128, 0.5938]])\n",
      "\n",
      "tensor([[0.3126, 0.3791, 0.3087],\n",
      "        [0.0736, 0.4216, 0.0691]])\n",
      "tensor([[0.2332, 0.4047, 0.2162],\n",
      "        [0.9927, 0.4128, 0.5938]])\n"
     ]
    }
   ],
   "source": [
    "torch.manual_seed(1729)\n",
    "random1 = torch.rand(2, 3)\n",
    "print(random1)\n",
    "\n",
    "random2 = torch.rand(2, 3)\n",
    "print(random2)\n",
    "\n",
    "print()\n",
    "\n",
    "torch.manual_seed(1729)\n",
    "random3 = torch.rand(2, 3)\n",
    "print(random3)\n",
    "\n",
    "random4 = torch.rand(2, 3)\n",
    "print(random4)"
   ]
  },
  {
   "attachments": {},
   "cell_type": "markdown",
   "id": "78694e9f",
   "metadata": {},
   "source": [
    "> it will be made same result if use same seed with manual_seed function from each instance"
   ]
  },
  {
   "attachments": {},
   "cell_type": "markdown",
   "id": "dcdfa926",
   "metadata": {},
   "source": [
    "## Tensor type conversion"
   ]
  },
  {
   "attachments": {},
   "cell_type": "markdown",
   "id": "e5140b4e",
   "metadata": {},
   "source": [
    "\n",
    "| Data Type      | Description              |\n",
    "|----------------|--------------------------|\n",
    "| `torch.float16` | 16-bit floating point   |\n",
    "| `torch.float32` | 32-bit floating point   |\n",
    "| `torch.float64` | 64-bit floating point   |\n",
    "| `torch.double`  | Alias for `torch.float64`|\n",
    "| `torch.int8`    | 8-bit signed integer    |\n",
    "| `torch.int16`   | 16-bit signed integer   |\n",
    "| `torch.short`   | Alias for `torch.int16`  |\n",
    "| `torch.int32`   | 32-bit signed integer   |\n",
    "| `torch.int64`   | 64-bit signed integer   |\n",
    "| `torch.uint8`   | 8-bit unsigned integer  |\n",
    "| `torch.bool`    | Boolean (True/False)    |\n",
    "\n",
    "In this updated list, `torch.double` and `torch.short` are included as aliases for their respective data types, making it clear that they are commonly used alternatives."
   ]
  },
  {
   "cell_type": "code",
   "execution_count": 23,
   "id": "2dadce88",
   "metadata": {},
   "outputs": [
    {
     "name": "stdout",
     "output_type": "stream",
     "text": [
      "torch.float32\n",
      "tensor([[1, 1, 1],\n",
      "        [1, 1, 1]], dtype=torch.int16)\n",
      "tensor([[18.0429,  7.2532, 19.6519],\n",
      "        [10.8626,  2.1505, 19.6913]], dtype=torch.float64)\n",
      "tensor([[1, 1, 1],\n",
      "        [1, 1, 1]], dtype=torch.int32)\n"
     ]
    }
   ],
   "source": [
    "a = torch.ones((2, 3))\n",
    "print(a.dtype)\n",
    "\n",
    "b = torch.ones((2, 3), dtype=torch.int16)\n",
    "print(b)\n",
    "\n",
    "c = torch.rand((2, 3), dtype=torch.float64) * 20.\n",
    "print(c)\n",
    "\n",
    "d = b.to(torch.int32)\n",
    "print(d)"
   ]
  },
  {
   "cell_type": "code",
   "execution_count": 24,
   "id": "cfc497fa",
   "metadata": {},
   "outputs": [
    {
     "name": "stdout",
     "output_type": "stream",
     "text": [
      "-----Parameter------\n",
      "torch.float64\n",
      "torch.int16\n",
      "-----Method------\n",
      "torch.float64\n",
      "torch.int16\n",
      "-----'to'Method------\n",
      "torch.float64\n",
      "torch.int16\n",
      "-----After Calculate------\n",
      "torch.float64\n"
     ]
    }
   ],
   "source": [
    "print(\"-----Parameter------\")\n",
    "double_d = torch.ones(10, 2, dtype=torch.double)\n",
    "short_e = torch.tensor([[1, 2]], dtype=torch.short)\n",
    "print(double_d.dtype)\n",
    "print(short_e.dtype)\n",
    "\n",
    "print(\"-----Method------\")\n",
    "double_d = torch.zeros(10, 2).double()\n",
    "short_e = torch.ones(10, 2).short()\n",
    "print(double_d.dtype)\n",
    "print(short_e.dtype)\n",
    "\n",
    "print(\"-----'to'Method------\")\n",
    "double_d = torch.zeros(10, 2).to(torch.double)\n",
    "short_e = torch.ones(10, 2).to(dtype=torch.short)\n",
    "print(double_d.dtype)\n",
    "print(short_e.dtype)\n",
    "\n",
    "print(\"-----After Calculate------\")\n",
    "double_f = torch.rand(5, dtype=torch.double)\n",
    "short_g = double_f.to(torch.short)\n",
    "print((double_f * short_g).dtype)"
   ]
  },
  {
   "attachments": {},
   "cell_type": "markdown",
   "id": "a0b303ad",
   "metadata": {},
   "source": [
    "## Tensor Operation"
   ]
  },
  {
   "attachments": {},
   "cell_type": "markdown",
   "id": "f8ab73f2",
   "metadata": {},
   "source": [
    "a chart summarizing common tensor operations in PyTorch:\n",
    "\n",
    "| Operation                      | Description                                 | Example                                           |\n",
    "| ------------------------------ | ------------------------------------------- | ------------------------------------------------- |\n",
    "| Addition (`+`, `.add()`)       | Adds two tensors element-wise.              | `result = tensor1 + tensor2`<br>`result = torch.add(tensor1, tensor2)` |\n",
    "| Subtraction (`-`, `.sub()`)    | Subtracts one tensor from another element-wise. | `result = tensor1 - tensor2`<br>`result = torch.sub(tensor1, tensor2)` |\n",
    "| Multiplication (`*`, `.mul()`) | Multiplies two tensors element-wise.         | `result = tensor1 * tensor2`<br>`result = torch.mul(tensor1, tensor2)` |\n",
    "| Division (`/`, `.div()`)       | Divides one tensor by another element-wise. | `result = tensor1 / tensor2`<br>`result = torch.div(tensor1, tensor2)` |\n",
    "| Matrix Multiplication (`@`, `.matmul()`) | Performs matrix multiplication between two tensors. | `result = tensor1 @ tensor2`<br>`result = torch.matmul(tensor1, tensor2)` |\n",
    "| Element-wise Power (`**`, `.pow()`) | Raises a tensor to a specified power element-wise. | `result = tensor1 ** exponent`<br>`result = torch.pow(tensor1, exponent)` |\n",
    "| Element-wise Square Root (`** 0.5`, `.sqrt()`) | Calculates the square root of a tensor element-wise. | `result = tensor1 ** 0.5`<br>`result = torch.sqrt(tensor1)` |\n",
    "| Summation (`sum()`, `.sum()`)  | Computes the sum of all elements in a tensor or along specified dimensions. | `total = tensor1.sum()`<br>`total = torch.sum(tensor1, dim=1)` |\n",
    "| Mean (`mean()`, `.mean()`)     | Calculates the mean (average) of elements in a tensor or along specified dimensions. | `avg = tensor1.mean()`<br>`avg = torch.mean(tensor1, dim=0)` |\n",
    "| Max (`max()`, `.max()`)        | Finds the maximum value in a tensor or along specified dimensions. | `max_val = tensor1.max()`<br>`max_val = torch.max(tensor1, dim=1)` |\n",
    "| Min (`min()`, `.min()`)        | Finds the minimum value in a tensor or along specified dimensions. | `min_val = tensor1.min()`<br>`min_val = torch.min(tensor1, dim=0)` |"
   ]
  },
  {
   "attachments": {},
   "cell_type": "markdown",
   "id": "bbae73d8",
   "metadata": {},
   "source": [
    "### Sample Code"
   ]
  },
  {
   "cell_type": "code",
   "execution_count": 25,
   "id": "2a8eea43",
   "metadata": {},
   "outputs": [
    {
     "name": "stdout",
     "output_type": "stream",
     "text": [
      "tensor([[2., 2., 2.],\n",
      "        [2., 2., 2.]])\n",
      "tensor([[2., 2., 2.],\n",
      "        [2., 2., 2.]])\n"
     ]
    }
   ],
   "source": [
    "t1 = torch.ones(size=(2, 3))\n",
    "t2 = torch.ones(size=(2, 3))\n",
    "t3 = torch.add(t1, t2)\n",
    "t4 = t1 + t2\n",
    "print(t3)\n",
    "print(t4)"
   ]
  },
  {
   "cell_type": "code",
   "execution_count": 26,
   "id": "5434d18f",
   "metadata": {},
   "outputs": [
    {
     "name": "stdout",
     "output_type": "stream",
     "text": [
      "tensor([[0., 0., 0.],\n",
      "        [0., 0., 0.]])\n",
      "tensor([[0., 0., 0.],\n",
      "        [0., 0., 0.]])\n"
     ]
    }
   ],
   "source": [
    "t5 = torch.sub(t1, t2)\n",
    "t6 = t1 - t2\n",
    "print(t5)\n",
    "print(t6)"
   ]
  },
  {
   "cell_type": "code",
   "execution_count": 27,
   "id": "571bb54e",
   "metadata": {},
   "outputs": [
    {
     "name": "stdout",
     "output_type": "stream",
     "text": [
      "tensor([[1., 1., 1.],\n",
      "        [1., 1., 1.]])\n",
      "tensor([[1., 1., 1.],\n",
      "        [1., 1., 1.]])\n"
     ]
    }
   ],
   "source": [
    "t7 = torch.mul(t1, t2)\n",
    "t8 = t1 * t2\n",
    "print(t7)\n",
    "print(t8)"
   ]
  },
  {
   "cell_type": "code",
   "execution_count": 28,
   "id": "7b6b57f4",
   "metadata": {},
   "outputs": [
    {
     "name": "stdout",
     "output_type": "stream",
     "text": [
      "tensor([[1., 1., 1.],\n",
      "        [1., 1., 1.]])\n",
      "tensor([[1., 1., 1.],\n",
      "        [1., 1., 1.]])\n"
     ]
    }
   ],
   "source": [
    "t9 = torch.div(t1, t2)\n",
    "t10 = t1 / t2\n",
    "print(t9)\n",
    "print(t10)"
   ]
  },
  {
   "attachments": {},
   "cell_type": "markdown",
   "id": "cf7bc133",
   "metadata": {},
   "source": [
    "## Tensor Matrix Multiplcation Operation "
   ]
  },
  {
   "attachments": {},
   "cell_type": "markdown",
   "id": "82edacc2",
   "metadata": {},
   "source": [
    "* dot product"
   ]
  },
  {
   "cell_type": "code",
   "execution_count": 29,
   "id": "9a481885",
   "metadata": {},
   "outputs": [
    {
     "name": "stdout",
     "output_type": "stream",
     "text": [
      "tensor(7) torch.Size([])\n"
     ]
    }
   ],
   "source": [
    "t1 = torch.dot(\n",
    "  torch.tensor([2, 3]), torch.tensor([2, 1])\n",
    ")\n",
    "print(t1, t1.size())"
   ]
  },
  {
   "attachments": {},
   "cell_type": "markdown",
   "id": "728c8152",
   "metadata": {},
   "source": [
    "* Matrix Multiplication"
   ]
  },
  {
   "cell_type": "code",
   "execution_count": 30,
   "id": "338cc75c",
   "metadata": {},
   "outputs": [
    {
     "name": "stdout",
     "output_type": "stream",
     "text": [
      "tensor([[1.6750, 2.2840],\n",
      "        [0.0956, 1.0294]]) torch.Size([2, 2])\n"
     ]
    }
   ],
   "source": [
    "# 2X3 * 3X2\n",
    "\n",
    "t2 = torch.randn(2, 3)\n",
    "t3 = torch.randn(3, 2)\n",
    "t4 = torch.mm(t2, t3)\n",
    "print(t4, t4.size())"
   ]
  },
  {
   "attachments": {},
   "cell_type": "markdown",
   "id": "91057230",
   "metadata": {},
   "source": [
    "* multi dimensional matrix multiplication"
   ]
  },
  {
   "cell_type": "code",
   "execution_count": 31,
   "id": "2d3c1b64",
   "metadata": {},
   "outputs": [
    {
     "name": "stdout",
     "output_type": "stream",
     "text": [
      "torch.Size([10, 3, 5])\n"
     ]
    }
   ],
   "source": [
    "t5 = torch.randn(10, 3, 4)\n",
    "t6 = torch.randn(10, 4, 5)\n",
    "t7 = torch.bmm(t5, t6)\n",
    "print(t7.size())"
   ]
  },
  {
   "attachments": {},
   "cell_type": "markdown",
   "id": "ebf11d73",
   "metadata": {},
   "source": [
    "## Tensor Operation Matmul"
   ]
  },
  {
   "attachments": {},
   "cell_type": "markdown",
   "id": "a5a6957b",
   "metadata": {},
   "source": [
    "| Operation Type             | Description and Learning Objectives                 |\n",
    "| ---------------------------| --------------------------------------------------- |\n",
    "| Vector x Vector            | Understand dot product computation and resulting tensor shape. |\n",
    "| Matrix x Vector            | Explore broadcasting in matrix-vector multiplication and its impact on tensor dimensions. |\n",
    "| Batched Matrix x Vector    | Grasp the concept of batched matrix-vector multiplication and efficient handling of multiple instances. |\n",
    "| Batched Matrix x Batched Matrix | Learn batch matrix multiplication (`bmm`) with two batches of matrices and understand the resulting tensor shape. |\n",
    "| Batched Matrix x Matrix    | Demonstrate batch matrix multiplication when one matrix is shared across batches. |"
   ]
  },
  {
   "attachments": {},
   "cell_type": "markdown",
   "id": "8920b5ef",
   "metadata": {},
   "source": [
    "---\n",
    "> what is borad cast?\n",
    "\n",
    "Broadcasting is a powerful feature in PyTorch that simplifies element-wise operations between tensors of different shapes. It allows for automatic alignment of dimensions, making tensors compatible without the need for explicit reshaping.\n",
    "\n",
    "---"
   ]
  },
  {
   "attachments": {},
   "cell_type": "markdown",
   "id": "45fbb67a",
   "metadata": {},
   "source": [
    "- Vector x Vector"
   ]
  },
  {
   "cell_type": "code",
   "execution_count": 32,
   "id": "484d5858",
   "metadata": {},
   "outputs": [
    {
     "name": "stdout",
     "output_type": "stream",
     "text": [
      "dtype :  torch.float32\n",
      "element :  tensor(-3.9578)\n",
      "dimension :  0\n",
      "shape :  torch.Size([])\n"
     ]
    }
   ],
   "source": [
    "t1 = torch.randn(3)\n",
    "t2 = torch.randn(3)\n",
    "result = torch.matmul(t1, t2)\n",
    "print_info(result)"
   ]
  },
  {
   "attachments": {},
   "cell_type": "markdown",
   "id": "34b242c7",
   "metadata": {},
   "source": [
    "- Matrix x Vector"
   ]
  },
  {
   "cell_type": "code",
   "execution_count": 33,
   "id": "a474c22b",
   "metadata": {},
   "outputs": [
    {
     "name": "stdout",
     "output_type": "stream",
     "text": [
      "dtype :  torch.float32\n",
      "element :  tensor([ 0.4829,  2.7321, -0.1362])\n",
      "dimension :  1\n",
      "shape :  torch.Size([3])\n"
     ]
    }
   ],
   "source": [
    "t3 = torch.randn(3, 4)\n",
    "t4 = torch.randn(4)\n",
    "result = torch.matmul(t3, t4)\n",
    "\n",
    "print_info(result)"
   ]
  },
  {
   "attachments": {},
   "cell_type": "markdown",
   "id": "6148355a",
   "metadata": {},
   "source": [
    "- batched matrix x Vector"
   ]
  },
  {
   "cell_type": "code",
   "execution_count": 34,
   "id": "d3c656ce",
   "metadata": {},
   "outputs": [
    {
     "name": "stdout",
     "output_type": "stream",
     "text": [
      "dtype :  torch.float32\n",
      "element :  tensor([[-5.2011,  3.4575, -1.3185],\n",
      "        [ 0.7632,  1.6519, -2.1533],\n",
      "        [ 1.2427, -2.0782, -1.0614],\n",
      "        [-1.4175, -2.0767,  3.8303],\n",
      "        [ 1.7279, -0.0849,  1.1593],\n",
      "        [-1.6880, -0.7415,  3.2048],\n",
      "        [-2.9646,  0.6164, -1.0502],\n",
      "        [-0.2039,  1.7261,  0.5722],\n",
      "        [ 0.4179, -2.4676, -1.1504],\n",
      "        [-1.6703,  1.9097, -0.1249]])\n",
      "dimension :  2\n",
      "shape :  torch.Size([10, 3])\n"
     ]
    }
   ],
   "source": [
    "t5 = torch.randn(10, 3, 4)\n",
    "t6 = torch.randn(4)\n",
    "result = torch.matmul(t5, t6)\n",
    "\n",
    "print_info(result)"
   ]
  },
  {
   "attachments": {},
   "cell_type": "markdown",
   "id": "32e74dff",
   "metadata": {},
   "source": [
    "- batched matrix x batched matrix"
   ]
  },
  {
   "cell_type": "code",
   "execution_count": 35,
   "id": "e036563b",
   "metadata": {},
   "outputs": [
    {
     "name": "stdout",
     "output_type": "stream",
     "text": [
      "dtype :  torch.float32\n",
      "element :  tensor([[[ 2.1020, -0.3041,  1.1571,  0.2306, -1.4742],\n",
      "         [-3.2551,  0.9498,  0.8669, -0.4856,  1.4879],\n",
      "         [ 0.2347, -1.1390,  0.0816, -1.8079,  0.3185]],\n",
      "\n",
      "        [[-0.5076, -0.7116,  0.1923, -5.5040, -3.2326],\n",
      "         [-1.0604,  1.5960,  0.1538,  2.2737,  3.2973],\n",
      "         [ 0.0597,  0.6748,  1.6721, -1.9172, -0.9776]],\n",
      "\n",
      "        [[-0.1259, -0.5863,  0.0144, -3.3686, -1.5376],\n",
      "         [ 1.4021, -0.4226,  1.0468, -1.5812, -0.8335],\n",
      "         [-4.3964, -0.3364, -2.0938, -2.6458, -1.9695]],\n",
      "\n",
      "        [[-1.1418, -0.4550, -1.5601,  0.6462,  0.2754],\n",
      "         [-1.6614,  0.6957,  4.0230, -0.2799, -0.7121],\n",
      "         [-1.0671, -0.0169, -1.8942,  1.7611,  2.4917]],\n",
      "\n",
      "        [[ 0.7832, -1.5725,  3.3583, -0.7314, -0.2346],\n",
      "         [ 0.3283,  3.0170, -3.2155, -0.7844,  0.6897],\n",
      "         [ 0.0879, -1.5669,  2.2670,  0.9668,  0.2408]],\n",
      "\n",
      "        [[ 7.0175,  1.7417,  4.9367, -2.1746, -8.5266],\n",
      "         [ 1.3775,  0.2433,  1.8862,  0.3734, -4.2286],\n",
      "         [-2.9085, -0.9043, -2.0205,  0.7442,  2.4159]],\n",
      "\n",
      "        [[-0.4632,  0.3958, -1.1272, -0.0939, -1.2615],\n",
      "         [-2.2336, -0.2218,  0.0256,  1.0120, -0.9476],\n",
      "         [ 2.3722,  2.8319,  0.9928, -2.1826, -3.1211]],\n",
      "\n",
      "        [[ 0.3607,  0.3914,  0.8387,  0.6492,  0.9804],\n",
      "         [-0.7179, -4.3357, -2.0728,  0.8492, -0.0949],\n",
      "         [-1.1984,  0.4280, -1.7190, -3.4942, -1.9784]],\n",
      "\n",
      "        [[ 2.0952, -1.4204,  0.1635, -0.9274,  1.4696],\n",
      "         [ 0.2993, -0.5584,  0.7200, -0.7133,  0.5887],\n",
      "         [-0.8796, -0.1738, -1.6341,  1.0539,  2.6723]],\n",
      "\n",
      "        [[ 1.4248,  0.6727,  1.3176,  1.2427,  0.9044],\n",
      "         [-2.3375, -1.3801,  0.1685, -0.7294,  0.3156],\n",
      "         [ 2.3770, -0.2858,  1.2301,  0.9068,  3.2064]]])\n",
      "dimension :  3\n",
      "shape :  torch.Size([10, 3, 5])\n"
     ]
    }
   ],
   "source": [
    "t7 = torch.randn(10, 3, 4)\n",
    "t8 = torch.randn(10, 4, 5)\n",
    "result = torch.matmul(t7, t8)\n",
    "\n",
    "print_info(result)"
   ]
  },
  {
   "attachments": {},
   "cell_type": "markdown",
   "id": "c57f765a",
   "metadata": {},
   "source": [
    "- batched matrix x matrix"
   ]
  },
  {
   "cell_type": "code",
   "execution_count": 36,
   "id": "f8110c3b",
   "metadata": {},
   "outputs": [
    {
     "name": "stdout",
     "output_type": "stream",
     "text": [
      "dtype :  torch.float32\n",
      "element :  tensor([[[-2.1507e+00, -3.1828e-01,  7.5433e-01, -2.1790e+00, -3.7608e-01],\n",
      "         [ 3.1887e+00,  1.2730e+00,  1.7544e+00, -4.0364e+00,  2.2332e+00],\n",
      "         [ 4.9022e+00,  7.5604e-01,  1.0731e+00, -1.9889e+00,  3.0835e+00]],\n",
      "\n",
      "        [[-8.0583e+00, -1.3431e+00, -4.9410e-01, -5.2546e-02, -4.1094e+00],\n",
      "         [ 6.6419e+00,  1.1542e+00,  7.6234e-02,  5.4709e-01,  2.8249e+00],\n",
      "         [ 1.3304e-01,  2.4081e-01,  3.1211e-02,  2.0584e-01,  1.5339e-01]],\n",
      "\n",
      "        [[ 5.5533e+00,  6.5231e-01,  1.3595e-02,  9.0015e-01,  2.7955e+00],\n",
      "         [-1.4762e+00,  1.6416e-01,  2.5089e-03, -9.1855e-01, -1.5135e+00],\n",
      "         [-2.6677e+00, -3.6761e-01,  9.8919e-01, -3.0336e+00, -6.0419e-01]],\n",
      "\n",
      "        [[ 1.9832e+00,  9.0888e-02,  1.3834e+00, -2.3762e+00,  2.8094e+00],\n",
      "         [-2.8064e+00, -2.3859e-01, -1.1264e+00,  2.0729e+00, -2.5899e+00],\n",
      "         [ 4.2635e+00,  3.0905e-01,  1.2380e-01,  1.3577e-01,  2.1435e+00]],\n",
      "\n",
      "        [[ 3.1451e+00,  1.4084e+00,  2.6376e-01, -5.5846e-01,  7.2897e-01],\n",
      "         [-5.4038e-01, -6.8038e-01,  3.5696e-01, -5.5749e-01,  7.8308e-01],\n",
      "         [-8.8475e-01, -1.0297e+00, -2.7377e-01,  1.0427e+00,  3.8443e-01]],\n",
      "\n",
      "        [[ 4.6214e+00,  3.6012e-01,  1.1742e+00, -2.4788e+00,  3.1142e+00],\n",
      "         [-5.3801e+00, -8.6456e-01,  9.1303e-01, -2.4747e+00, -1.2258e+00],\n",
      "         [-1.0430e+00, -6.2690e-01, -9.8682e-01,  2.2790e+00, -9.7706e-01]],\n",
      "\n",
      "        [[ 3.1305e+00,  8.8374e-01, -1.6536e-01,  2.9014e-01,  5.5290e-01],\n",
      "         [ 4.7505e+00,  7.3596e-01, -6.7776e-01,  1.6727e+00,  1.0461e+00],\n",
      "         [-9.8570e+00, -2.3462e+00, -2.2041e+00,  3.6405e+00, -6.0658e+00]],\n",
      "\n",
      "        [[ 3.1764e+00, -1.5275e-01,  1.0083e+00, -1.0997e+00,  3.4830e+00],\n",
      "         [ 4.5731e+00,  5.5048e-01, -1.0622e+00,  3.6826e+00,  1.6493e+00],\n",
      "         [-7.7838e+00, -1.6538e+00, -3.7923e-01,  5.1805e-01, -2.9798e+00]],\n",
      "\n",
      "        [[ 4.3330e+00,  1.9888e+00,  1.0987e+00, -2.6318e+00,  1.5376e+00],\n",
      "         [-3.2090e+00, -1.5104e+00, -1.3407e+00,  2.7345e+00, -1.9707e+00],\n",
      "         [ 1.1159e+00,  2.9538e-01, -1.7047e-01, -9.4426e-02, -2.7025e-01]],\n",
      "\n",
      "        [[ 7.8744e+00,  8.6322e-01,  9.8177e-01, -1.1047e+00,  4.7938e+00],\n",
      "         [-8.5725e+00, -1.7275e+00,  9.3109e-01, -2.0351e+00, -1.6406e+00],\n",
      "         [-2.4870e+00, -5.3160e-01, -1.0985e-02, -3.4871e-01, -1.0583e+00]]])\n",
      "dimension :  3\n",
      "shape :  torch.Size([10, 3, 5])\n"
     ]
    }
   ],
   "source": [
    "t9 = torch.randn(10, 3, 4)\n",
    "t10 = torch.randn(4, 5)\n",
    "result = torch.matmul(t9, t10)\n",
    "\n",
    "print_info(result)"
   ]
  },
  {
   "attachments": {},
   "cell_type": "markdown",
   "id": "75579332",
   "metadata": {},
   "source": [
    "## Tensor broadcasting"
   ]
  },
  {
   "attachments": {},
   "cell_type": "markdown",
   "id": "33f198af",
   "metadata": {},
   "source": [
    "- scalar operations"
   ]
  },
  {
   "cell_type": "code",
   "execution_count": 37,
   "id": "6728be58",
   "metadata": {},
   "outputs": [
    {
     "name": "stdout",
     "output_type": "stream",
     "text": [
      "tensor([2., 4., 6.])\n"
     ]
    }
   ],
   "source": [
    "t1 = torch.tensor([1.0, 2.0, 3.0])\n",
    "t2 = 2.0\n",
    "print(t1 * t2)"
   ]
  },
  {
   "attachments": {},
   "cell_type": "markdown",
   "id": "7d38e0e6",
   "metadata": {},
   "source": [
    "- element-wise operations"
   ]
  },
  {
   "cell_type": "code",
   "execution_count": 38,
   "id": "6e1f54fa",
   "metadata": {},
   "outputs": [
    {
     "name": "stdout",
     "output_type": "stream",
     "text": [
      "tensor([[-4, -4],\n",
      "        [-2, -1],\n",
      "        [ 6,  5]])\n"
     ]
    }
   ],
   "source": [
    "t3 = torch.tensor([[0, 1], \n",
    "                   [2, 4], \n",
    "                   [10, 10]])\n",
    "\n",
    "t4 = torch.tensor([4, 5])\n",
    "print(t3 - t4)\n",
    "\n",
    "#[[0, 1],           [[4,5],\n",
    "# [2, 4],       -    [4,5],\n",
    "# [10, 10]])         [4,5]]\n"
   ]
  },
  {
   "attachments": {},
   "cell_type": "markdown",
   "id": "b6328cae",
   "metadata": {},
   "source": [
    "- broadcasting"
   ]
  },
  {
   "cell_type": "code",
   "execution_count": 39,
   "id": "80e19e92",
   "metadata": {},
   "outputs": [
    {
     "name": "stdout",
     "output_type": "stream",
     "text": [
      "----- + -----\n",
      "tensor([[3., 4.],\n",
      "        [5., 6.]])\n",
      "\n",
      "----- - -----\n",
      "tensor([[-1.,  0.],\n",
      "        [ 1.,  2.]])\n",
      "\n",
      "----- x -----\n",
      "tensor([[2., 4.],\n",
      "        [6., 8.]])\n",
      "\n",
      "----- / -----\n",
      "tensor([[0.5000, 1.0000],\n",
      "        [1.5000, 2.0000]])\n"
     ]
    }
   ],
   "source": [
    "t5 = torch.tensor([[1., 2.], [3., 4.]])\n",
    "print(\"----- + -----\")\n",
    "print(t5 + 2.0)  # t5.add(2.0)\n",
    "print(\"\")\n",
    "\n",
    "print(\"----- - -----\")\n",
    "print(t5 - 2.0)  # t5.sub(2.0)\n",
    "print(\"\")\n",
    "\n",
    "print(\"----- x -----\")\n",
    "print(t5 * 2.0)  # t5.mul(2.0)\n",
    "print(\"\")\n",
    "\n",
    "print(\"----- / -----\")\n",
    "print(t5 / 2.0)  # t5.div(2.0)"
   ]
  },
  {
   "attachments": {},
   "cell_type": "markdown",
   "id": "bca1e0c2",
   "metadata": {},
   "source": [
    "- element-wise power"
   ]
  },
  {
   "cell_type": "code",
   "execution_count": 40,
   "id": "8cd10634",
   "metadata": {},
   "outputs": [
    {
     "name": "stdout",
     "output_type": "stream",
     "text": [
      "dtype :  torch.float32\n",
      "element :  tensor([[[-0.0016,  0.0028,  0.0036,  ..., -0.0006,  0.0031,  0.0031],\n",
      "         [ 0.0072, -0.0098,  0.0025,  ...,  0.0085,  0.0021,  0.0030],\n",
      "         [ 0.0005, -0.0025, -0.0012,  ..., -0.0015, -0.0094,  0.0047],\n",
      "         ...,\n",
      "         [ 0.0048,  0.0036,  0.0003,  ...,  0.0050, -0.0017,  0.0019],\n",
      "         [-0.0006,  0.0018, -0.0026,  ..., -0.0010, -0.0038,  0.0019],\n",
      "         [-0.0009, -0.0046,  0.0066,  ...,  0.0003,  0.0018,  0.0068]],\n",
      "\n",
      "        [[ 0.0047,  0.0038,  0.0126,  ..., -0.0023,  0.0004, -0.0054],\n",
      "         [-0.0014,  0.0032,  0.0007,  ...,  0.0023,  0.0031, -0.0046],\n",
      "         [ 0.0003,  0.0041, -0.0003,  ...,  0.0010, -0.0038, -0.0012],\n",
      "         ...,\n",
      "         [-0.0038,  0.0025, -0.0031,  ..., -0.0029,  0.0024, -0.0044],\n",
      "         [ 0.0043,  0.0036, -0.0014,  ...,  0.0048,  0.0004, -0.0039],\n",
      "         [ 0.0070, -0.0009, -0.0014,  ..., -0.0026,  0.0054, -0.0035]],\n",
      "\n",
      "        [[ 0.0027, -0.0004,  0.0037,  ...,  0.0006,  0.0022, -0.0034],\n",
      "         [-0.0014, -0.0012, -0.0026,  ..., -0.0006, -0.0056, -0.0013],\n",
      "         [-0.0056,  0.0074, -0.0014,  ..., -0.0002, -0.0010,  0.0001],\n",
      "         ...,\n",
      "         [-0.0030,  0.0010, -0.0061,  ...,  0.0030,  0.0040,  0.0016],\n",
      "         [ 0.0061, -0.0008, -0.0012,  ...,  0.0032,  0.0020, -0.0090],\n",
      "         [ 0.0014,  0.0028,  0.0018,  ..., -0.0027,  0.0034,  0.0018]]])\n",
      "dimension :  3\n",
      "shape :  torch.Size([3, 28, 28])\n"
     ]
    }
   ],
   "source": [
    "def normalize(x):\n",
    "  return x / 255\n",
    "\n",
    "\n",
    "t6 = torch.randn(3, 28, 28)\n",
    "result = normalize(t6)\n",
    "\n",
    "print_info(result)"
   ]
  },
  {
   "attachments": {},
   "cell_type": "markdown",
   "id": "dcaca575",
   "metadata": {},
   "source": [
    "- special cases"
   ]
  },
  {
   "cell_type": "code",
   "execution_count": 41,
   "id": "135917e4",
   "metadata": {},
   "outputs": [
    {
     "name": "stdout",
     "output_type": "stream",
     "text": [
      "dtype :  torch.float32\n",
      "element :  tensor([[[0.6590, 0.4816],\n",
      "         [0.3480, 0.7727],\n",
      "         [0.9384, 0.1520]],\n",
      "\n",
      "        [[0.6590, 0.4816],\n",
      "         [0.3480, 0.7727],\n",
      "         [0.9384, 0.1520]],\n",
      "\n",
      "        [[0.6590, 0.4816],\n",
      "         [0.3480, 0.7727],\n",
      "         [0.9384, 0.1520]],\n",
      "\n",
      "        [[0.6590, 0.4816],\n",
      "         [0.3480, 0.7727],\n",
      "         [0.9384, 0.1520]]])\n",
      "dimension :  3\n",
      "shape :  torch.Size([4, 3, 2])\n"
     ]
    }
   ],
   "source": [
    "t11 = torch.ones(4, 3, 2)\n",
    "t12 = t11 * torch.rand(3, 2)  # 3rd & 2nd dims identical to t11, dim 0 absent\n",
    "print_info(t12)"
   ]
  },
  {
   "cell_type": "code",
   "execution_count": 42,
   "id": "91fa9dbf",
   "metadata": {},
   "outputs": [
    {
     "name": "stdout",
     "output_type": "stream",
     "text": [
      "dtype :  torch.float32\n",
      "element :  tensor([[[0.3239, 0.3239],\n",
      "         [0.7967, 0.7967],\n",
      "         [0.1779, 0.1779]],\n",
      "\n",
      "        [[0.3239, 0.3239],\n",
      "         [0.7967, 0.7967],\n",
      "         [0.1779, 0.1779]],\n",
      "\n",
      "        [[0.3239, 0.3239],\n",
      "         [0.7967, 0.7967],\n",
      "         [0.1779, 0.1779]],\n",
      "\n",
      "        [[0.3239, 0.3239],\n",
      "         [0.7967, 0.7967],\n",
      "         [0.1779, 0.1779]]])\n",
      "dimension :  3\n",
      "shape :  torch.Size([4, 3, 2])\n"
     ]
    }
   ],
   "source": [
    "t13 = torch.ones(4, 3, 2)\n",
    "t14 = t13 * torch.rand(3, 1)  # 3rd dim = 1, 2nd dim is identical to t13\n",
    "print_info(t14)"
   ]
  },
  {
   "cell_type": "code",
   "execution_count": 43,
   "id": "3b5dc162",
   "metadata": {},
   "outputs": [
    {
     "name": "stdout",
     "output_type": "stream",
     "text": [
      "dtype :  torch.float32\n",
      "element :  tensor([[[0.2420, 0.8747],\n",
      "         [0.2420, 0.8747],\n",
      "         [0.2420, 0.8747]],\n",
      "\n",
      "        [[0.2420, 0.8747],\n",
      "         [0.2420, 0.8747],\n",
      "         [0.2420, 0.8747]],\n",
      "\n",
      "        [[0.2420, 0.8747],\n",
      "         [0.2420, 0.8747],\n",
      "         [0.2420, 0.8747]],\n",
      "\n",
      "        [[0.2420, 0.8747],\n",
      "         [0.2420, 0.8747],\n",
      "         [0.2420, 0.8747]]])\n",
      "dimension :  3\n",
      "shape :  torch.Size([4, 3, 2])\n"
     ]
    }
   ],
   "source": [
    "t15 = torch.ones(4, 3, 2)\n",
    "t16 = t15 * torch.rand(1, 2)  # 3rd dim is identical to t15, 2nd dim is 1\n",
    "print_info(t16)"
   ]
  },
  {
   "cell_type": "code",
   "execution_count": 44,
   "id": "f8c3d241",
   "metadata": {},
   "outputs": [],
   "source": [
    "t17 = torch.ones(5, 3, 4, 1)\n",
    "t18 = torch.rand(3, 1, 1)  # 2nd dim is identical to t17, 3rd and 4th dims are 1"
   ]
  },
  {
   "cell_type": "code",
   "execution_count": 45,
   "id": "8fc7caa1",
   "metadata": {},
   "outputs": [
    {
     "name": "stdout",
     "output_type": "stream",
     "text": [
      "tensor([[[[1.],\n",
      "          [1.],\n",
      "          [1.],\n",
      "          [1.]],\n",
      "\n",
      "         [[1.],\n",
      "          [1.],\n",
      "          [1.],\n",
      "          [1.]],\n",
      "\n",
      "         [[1.],\n",
      "          [1.],\n",
      "          [1.],\n",
      "          [1.]]],\n",
      "\n",
      "\n",
      "        [[[1.],\n",
      "          [1.],\n",
      "          [1.],\n",
      "          [1.]],\n",
      "\n",
      "         [[1.],\n",
      "          [1.],\n",
      "          [1.],\n",
      "          [1.]],\n",
      "\n",
      "         [[1.],\n",
      "          [1.],\n",
      "          [1.],\n",
      "          [1.]]],\n",
      "\n",
      "\n",
      "        [[[1.],\n",
      "          [1.],\n",
      "          [1.],\n",
      "          [1.]],\n",
      "\n",
      "         [[1.],\n",
      "          [1.],\n",
      "          [1.],\n",
      "          [1.]],\n",
      "\n",
      "         [[1.],\n",
      "          [1.],\n",
      "          [1.],\n",
      "          [1.]]],\n",
      "\n",
      "\n",
      "        [[[1.],\n",
      "          [1.],\n",
      "          [1.],\n",
      "          [1.]],\n",
      "\n",
      "         [[1.],\n",
      "          [1.],\n",
      "          [1.],\n",
      "          [1.]],\n",
      "\n",
      "         [[1.],\n",
      "          [1.],\n",
      "          [1.],\n",
      "          [1.]]],\n",
      "\n",
      "\n",
      "        [[[1.],\n",
      "          [1.],\n",
      "          [1.],\n",
      "          [1.]],\n",
      "\n",
      "         [[1.],\n",
      "          [1.],\n",
      "          [1.],\n",
      "          [1.]],\n",
      "\n",
      "         [[1.],\n",
      "          [1.],\n",
      "          [1.],\n",
      "          [1.]]]])\n"
     ]
    }
   ],
   "source": [
    "print(t17)"
   ]
  },
  {
   "cell_type": "code",
   "execution_count": 46,
   "id": "71d9cabe",
   "metadata": {},
   "outputs": [
    {
     "name": "stdout",
     "output_type": "stream",
     "text": [
      "tensor([[[0.5108]],\n",
      "\n",
      "        [[0.6059]],\n",
      "\n",
      "        [[0.6122]]])\n"
     ]
    }
   ],
   "source": [
    "print(t18)"
   ]
  },
  {
   "cell_type": "code",
   "execution_count": 47,
   "id": "6c6745fc",
   "metadata": {},
   "outputs": [
    {
     "name": "stdout",
     "output_type": "stream",
     "text": [
      "dtype :  torch.float32\n",
      "element :  tensor([[[[1.5108],\n",
      "          [1.5108],\n",
      "          [1.5108],\n",
      "          [1.5108]],\n",
      "\n",
      "         [[1.6059],\n",
      "          [1.6059],\n",
      "          [1.6059],\n",
      "          [1.6059]],\n",
      "\n",
      "         [[1.6122],\n",
      "          [1.6122],\n",
      "          [1.6122],\n",
      "          [1.6122]]],\n",
      "\n",
      "\n",
      "        [[[1.5108],\n",
      "          [1.5108],\n",
      "          [1.5108],\n",
      "          [1.5108]],\n",
      "\n",
      "         [[1.6059],\n",
      "          [1.6059],\n",
      "          [1.6059],\n",
      "          [1.6059]],\n",
      "\n",
      "         [[1.6122],\n",
      "          [1.6122],\n",
      "          [1.6122],\n",
      "          [1.6122]]],\n",
      "\n",
      "\n",
      "        [[[1.5108],\n",
      "          [1.5108],\n",
      "          [1.5108],\n",
      "          [1.5108]],\n",
      "\n",
      "         [[1.6059],\n",
      "          [1.6059],\n",
      "          [1.6059],\n",
      "          [1.6059]],\n",
      "\n",
      "         [[1.6122],\n",
      "          [1.6122],\n",
      "          [1.6122],\n",
      "          [1.6122]]],\n",
      "\n",
      "\n",
      "        [[[1.5108],\n",
      "          [1.5108],\n",
      "          [1.5108],\n",
      "          [1.5108]],\n",
      "\n",
      "         [[1.6059],\n",
      "          [1.6059],\n",
      "          [1.6059],\n",
      "          [1.6059]],\n",
      "\n",
      "         [[1.6122],\n",
      "          [1.6122],\n",
      "          [1.6122],\n",
      "          [1.6122]]],\n",
      "\n",
      "\n",
      "        [[[1.5108],\n",
      "          [1.5108],\n",
      "          [1.5108],\n",
      "          [1.5108]],\n",
      "\n",
      "         [[1.6059],\n",
      "          [1.6059],\n",
      "          [1.6059],\n",
      "          [1.6059]],\n",
      "\n",
      "         [[1.6122],\n",
      "          [1.6122],\n",
      "          [1.6122],\n",
      "          [1.6122]]]])\n",
      "dimension :  4\n",
      "shape :  torch.Size([5, 3, 4, 1])\n"
     ]
    }
   ],
   "source": [
    "print_info(t17 + t18) \n",
    "# review"
   ]
  },
  {
   "cell_type": "code",
   "execution_count": 48,
   "id": "840e7c84",
   "metadata": {},
   "outputs": [
    {
     "name": "stdout",
     "output_type": "stream",
     "text": [
      "dtype :  torch.float32\n",
      "element :  tensor([[[[20.],\n",
      "          [20.],\n",
      "          [20.],\n",
      "          [20.]]],\n",
      "\n",
      "\n",
      "        [[[20.],\n",
      "          [20.],\n",
      "          [20.],\n",
      "          [20.]]],\n",
      "\n",
      "\n",
      "        [[[20.],\n",
      "          [20.],\n",
      "          [20.],\n",
      "          [20.]]],\n",
      "\n",
      "\n",
      "        [[[20.],\n",
      "          [20.],\n",
      "          [20.],\n",
      "          [20.]]],\n",
      "\n",
      "\n",
      "        [[[20.],\n",
      "          [20.],\n",
      "          [20.],\n",
      "          [20.]]]])\n",
      "dimension :  4\n",
      "shape :  torch.Size([5, 1, 4, 1])\n"
     ]
    }
   ],
   "source": [
    "t19 = torch.empty(5, 1, 4, 1)\n",
    "t20 = torch.empty(3, 1, 1)\n",
    "\n",
    "print_info(t19 + 20)\n",
    "#review"
   ]
  },
  {
   "attachments": {},
   "cell_type": "markdown",
   "id": "a9f67254",
   "metadata": {},
   "source": [
    "- math functions"
   ]
  },
  {
   "cell_type": "code",
   "execution_count": 49,
   "id": "2dbe9384",
   "metadata": {},
   "outputs": [
    {
     "name": "stdout",
     "output_type": "stream",
     "text": [
      "torch.Size([3, 1, 7])\n"
     ]
    }
   ],
   "source": [
    "t21 = torch.empty(1)\n",
    "t22 = torch.empty(3, 1, 7)\n",
    "print((t21 + t22).size())  # torch.Size([3, 1, 7])"
   ]
  },
  {
   "cell_type": "code",
   "execution_count": 50,
   "id": "f6266931",
   "metadata": {},
   "outputs": [
    {
     "name": "stdout",
     "output_type": "stream",
     "text": [
      "torch.Size([3, 3, 3])\n"
     ]
    }
   ],
   "source": [
    "t23 = torch.ones(3, 3, 3)\n",
    "t24 = torch.ones(3, 1, 3)\n",
    "print((t23 + t24).size())  # torch.Size([3, 3, 3])"
   ]
  },
  {
   "cell_type": "code",
   "execution_count": 51,
   "id": "d8447538",
   "metadata": {},
   "outputs": [
    {
     "ename": "RuntimeError",
     "evalue": "The size of tensor a (2) must match the size of tensor b (3) at non-singleton dimension 1",
     "output_type": "error",
     "traceback": [
      "\u001b[0;31m---------------------------------------------------------------------------\u001b[0m",
      "\u001b[0;31mRuntimeError\u001b[0m                              Traceback (most recent call last)",
      "Cell \u001b[0;32mIn[51], line 3\u001b[0m\n\u001b[1;32m      1\u001b[0m t25 \u001b[39m=\u001b[39m torch\u001b[39m.\u001b[39mempty(\u001b[39m5\u001b[39m, \u001b[39m2\u001b[39m, \u001b[39m4\u001b[39m, \u001b[39m1\u001b[39m)\n\u001b[1;32m      2\u001b[0m t26 \u001b[39m=\u001b[39m torch\u001b[39m.\u001b[39mempty(\u001b[39m3\u001b[39m, \u001b[39m1\u001b[39m, \u001b[39m1\u001b[39m)\n\u001b[0;32m----> 3\u001b[0m \u001b[39mprint\u001b[39m((t25 \u001b[39m+\u001b[39;49m t26))\n",
      "\u001b[0;31mRuntimeError\u001b[0m: The size of tensor a (2) must match the size of tensor b (3) at non-singleton dimension 1"
     ]
    }
   ],
   "source": [
    "t25 = torch.empty(5, 2, 4, 1)\n",
    "t26 = torch.empty(3, 1, 1)\n",
    "print((t25 + t26))"
   ]
  },
  {
   "cell_type": "code",
   "execution_count": 52,
   "id": "36b7611b",
   "metadata": {},
   "outputs": [
    {
     "name": "stdout",
     "output_type": "stream",
     "text": [
      "tensor([5., 5., 5., 5.])\n"
     ]
    }
   ],
   "source": [
    "t27 = torch.ones(4) * 5\n",
    "print(t27)  # >>> tensor([ 5, 5, 5, 5])"
   ]
  },
  {
   "cell_type": "code",
   "execution_count": 53,
   "id": "65410cf8",
   "metadata": {},
   "outputs": [
    {
     "name": "stdout",
     "output_type": "stream",
     "text": [
      "tensor([25., 25., 25., 25.])\n"
     ]
    }
   ],
   "source": [
    "\n",
    "t28 = torch.pow(t27, 2)\n",
    "print(t28)  # >>> tensor([ 25, 25, 25, 25])"
   ]
  },
  {
   "cell_type": "code",
   "execution_count": 54,
   "id": "3323b726",
   "metadata": {},
   "outputs": [
    {
     "name": "stdout",
     "output_type": "stream",
     "text": [
      "tensor([  1.,   4.,  27., 256.])\n"
     ]
    }
   ],
   "source": [
    "exp = torch.arange(1., 5.)  # tensor([ 1.,  2.,  3.,  4.])\n",
    "a = torch.arange(1., 5.)  # tensor([ 1.,  2.,  3.,  4.])\n",
    "t29 = torch.pow(a, exp)\n",
    "print(t29)  # >>> tensor([   1.,    4.,   27.,  256.])"
   ]
  },
  {
   "attachments": {},
   "cell_type": "markdown",
   "id": "e06b4f46",
   "metadata": {},
   "source": [
    "## Tensor Indexing"
   ]
  },
  {
   "attachments": {},
   "cell_type": "markdown",
   "id": "ac394699",
   "metadata": {},
   "source": [
    "`torch.tensor(row, colum)`"
   ]
  },
  {
   "cell_type": "code",
   "execution_count": 55,
   "id": "95653fe6",
   "metadata": {},
   "outputs": [
    {
     "name": "stdout",
     "output_type": "stream",
     "text": [
      "tensor([5, 6, 7, 8, 9])\n",
      "tensor([ 1,  6, 11])\n",
      "tensor(7)\n",
      "tensor([ 4,  9, 14])\n"
     ]
    }
   ],
   "source": [
    "x = torch.tensor(\n",
    "  [[0, 1, 2, 3, 4],\n",
    "   [5, 6, 7, 8, 9],\n",
    "   [10, 11, 12, 13, 14]]\n",
    ")\n",
    "\n",
    "print(x[1])  # >>> tensor([5, 6, 7, 8, 9])\n",
    "print(x[:, 1])  # >>> tensor([1, 6, 11])\n",
    "print(x[1, 2])  # >>> tensor(7)\n",
    "print(x[:, -1])  # >>> tensor([4, 9, 14)"
   ]
  },
  {
   "cell_type": "code",
   "execution_count": 56,
   "id": "9d5f1de1",
   "metadata": {},
   "outputs": [
    {
     "name": "stdout",
     "output_type": "stream",
     "text": [
      "tensor([[ 5,  6,  7,  8,  9],\n",
      "        [10, 11, 12, 13, 14]])\n",
      "tensor([[ 8,  9],\n",
      "        [13, 14]])\n"
     ]
    }
   ],
   "source": [
    "print(x[1:])  # >>> tensor([[ 5,  6,  7,  8,  9], [10, 11, 12, 13, 14]])\n",
    "print(x[1:, 3:])  # >>> tensor([[ 8,  9], [13, 14]])"
   ]
  },
  {
   "cell_type": "code",
   "execution_count": 57,
   "id": "c3796506",
   "metadata": {},
   "outputs": [
    {
     "name": "stdout",
     "output_type": "stream",
     "text": [
      "tensor([[0., 0., 0., 0., 0., 0.],\n",
      "        [0., 0., 1., 0., 0., 0.],\n",
      "        [0., 0., 1., 0., 0., 0.],\n",
      "        [0., 0., 1., 0., 0., 0.],\n",
      "        [0., 0., 0., 0., 0., 0.],\n",
      "        [0., 0., 0., 0., 0., 0.]])\n",
      "tensor([[0., 1., 0.],\n",
      "        [0., 1., 0.],\n",
      "        [0., 1., 0.]])\n"
     ]
    }
   ],
   "source": [
    "y = torch.zeros((6, 6))\n",
    "y[1:4, 2] = 1\n",
    "print(y)\n",
    "\n",
    "print(y[1:4, 1:4])"
   ]
  },
  {
   "cell_type": "code",
   "execution_count": 58,
   "id": "5fbbde3f",
   "metadata": {},
   "outputs": [
    {
     "name": "stdout",
     "output_type": "stream",
     "text": [
      "tensor([[1, 2, 3, 4],\n",
      "        [2, 3, 4, 5]])\n",
      "tensor([[3, 4],\n",
      "        [6, 7]])\n",
      "tensor([[2, 3, 4],\n",
      "        [3, 4, 5],\n",
      "        [6, 7, 8]])\n",
      "\n",
      "----- after convet to 0 to specific area-----\n",
      "tensor([[1, 2, 3, 4],\n",
      "        [2, 0, 0, 5],\n",
      "        [5, 0, 0, 8]])\n"
     ]
    }
   ],
   "source": [
    "z = torch.tensor(\n",
    "  [[1, 2, 3, 4],\n",
    "   [2, 3, 4, 5],\n",
    "   [5, 6, 7, 8]]\n",
    ")\n",
    "print(z[:2])\n",
    "print(z[1:, 1:3])\n",
    "print(z[:, 1:])\n",
    "\n",
    "print(\"\")\n",
    "print(\"----- after convet to 0 to specific area-----\")\n",
    "z[1:, 1:3] = 0\n",
    "print(z)"
   ]
  },
  {
   "attachments": {},
   "cell_type": "markdown",
   "id": "3ae74e1e",
   "metadata": {},
   "source": [
    "## Tensor reshaping"
   ]
  },
  {
   "attachments": {},
   "cell_type": "markdown",
   "id": "71237811",
   "metadata": {},
   "source": [
    "| Operation Type           | Description and Learning Objectives                              |\n",
    "| -------------------------| ---------------------------------------------------------------- |\n",
    "| View and Reshape         | Demonstrates reshaping tensors with `view` and `reshape`.        |\n",
    "| Squeeze and Unsqueeze    | Shows how to modify tensor dimensions using `squeeze` and `unsqueeze`. |\n",
    "| Flattening               | Illustrates flattening multi-dimensional tensors into one-dimensional tensors. |\n",
    "| Permute and Transpose    | Explains tensor dimension permutations and transpositions with `permute`, `transpose`, and `t`. |\n"
   ]
  },
  {
   "cell_type": "code",
   "execution_count": 59,
   "id": "d966735f",
   "metadata": {},
   "outputs": [
    {
     "name": "stdout",
     "output_type": "stream",
     "text": [
      "dtype :  torch.int64\n",
      "element :  tensor([[1, 2, 3],\n",
      "        [4, 5, 6]])\n",
      "dimension :  2\n",
      "shape :  torch.Size([2, 3])\n",
      "\n",
      "tensor([[1, 2, 3],\n",
      "        [4, 5, 6]])\n"
     ]
    }
   ],
   "source": [
    "t1 = torch.tensor([[1,2,3],[4,5,6]])\n",
    "print_info(t1)\n",
    "print(\"\")\n",
    "print(t1)"
   ]
  },
  {
   "cell_type": "code",
   "execution_count": 60,
   "id": "b5dcb3b3",
   "metadata": {},
   "outputs": [
    {
     "name": "stdout",
     "output_type": "stream",
     "text": [
      "dtype :  torch.int64\n",
      "element :  tensor([[1, 2],\n",
      "        [3, 4],\n",
      "        [5, 6]])\n",
      "dimension :  2\n",
      "shape :  torch.Size([3, 2])\n",
      "\n",
      "tensor([[1, 2],\n",
      "        [3, 4],\n",
      "        [5, 6]])\n"
     ]
    }
   ],
   "source": [
    "t2 = t1.view(3,2)\n",
    "print_info(t2)\n",
    "print(\"\")\n",
    "print(t2)"
   ]
  },
  {
   "cell_type": "code",
   "execution_count": 61,
   "id": "a4e4f620",
   "metadata": {},
   "outputs": [
    {
     "name": "stdout",
     "output_type": "stream",
     "text": [
      "dtype :  torch.int64\n",
      "element :  tensor([[1, 2, 3, 4, 5, 6]])\n",
      "dimension :  2\n",
      "shape :  torch.Size([1, 6])\n",
      "\n",
      "tensor([[1, 2, 3, 4, 5, 6]])\n"
     ]
    }
   ],
   "source": [
    "t3 = t1.reshape(1,6)\n",
    "print_info(t3)\n",
    "print(\"\")\n",
    "print(t3)"
   ]
  },
  {
   "cell_type": "code",
   "execution_count": 62,
   "id": "4475e2c1",
   "metadata": {},
   "outputs": [
    {
     "name": "stdout",
     "output_type": "stream",
     "text": [
      "dtype :  torch.int64\n",
      "element :  tensor([[0, 1, 2, 3],\n",
      "        [4, 5, 6, 7]])\n",
      "dimension :  2\n",
      "shape :  torch.Size([2, 4])\n",
      "\n",
      "tensor([[0, 1, 2, 3],\n",
      "        [4, 5, 6, 7]])\n"
     ]
    }
   ],
   "source": [
    "t4 = torch.arange(8).view(2, 4)\n",
    "print_info(t4)\n",
    "print(\"\")\n",
    "print(t4)"
   ]
  },
  {
   "cell_type": "code",
   "execution_count": 63,
   "id": "1a5c3523",
   "metadata": {},
   "outputs": [
    {
     "name": "stdout",
     "output_type": "stream",
     "text": [
      "dtype :  torch.int64\n",
      "element :  tensor([[0, 1, 2],\n",
      "        [3, 4, 5]])\n",
      "dimension :  2\n",
      "shape :  torch.Size([2, 3])\n",
      "\n",
      "tensor([[0, 1, 2],\n",
      "        [3, 4, 5]])\n"
     ]
    }
   ],
   "source": [
    "t5 = torch.arange(6).view(2, 3)\n",
    "print_info(t5)\n",
    "print(\"\")\n",
    "print(t5)"
   ]
  },
  {
   "cell_type": "code",
   "execution_count": 64,
   "id": "a4fe3522",
   "metadata": {},
   "outputs": [
    {
     "name": "stdout",
     "output_type": "stream",
     "text": [
      "tensor([1, 2, 3])\n",
      "tensor([[1],\n",
      "        [2],\n",
      "        [3]])\n",
      "tensor([[1, 2, 3]])\n"
     ]
    }
   ],
   "source": [
    "# Original tensor with shape (1, 3, 1)\n",
    "t6 = torch.tensor([[[1], [2], [3]]])\n",
    "\n",
    "# Remove all dimensions of size 1\n",
    "t7 = t6.squeeze()  # Shape becomes (3,)\n",
    "\n",
    "# Remove dimension at position 0\n",
    "t8 = t6.squeeze(0)  # Shape becomes (3, 1)\n",
    "test = t6.squeeze(-1)\n",
    "\n",
    "print(t7)\n",
    "print(t8)\n",
    "print(test)"
   ]
  },
  {
   "attachments": {},
   "cell_type": "markdown",
   "id": "d6da055f",
   "metadata": {},
   "source": [
    "Squeeze function\n",
    "> Removes all dimensions of siuze 1 or the specified dimension if its size is 1"
   ]
  },
  {
   "cell_type": "code",
   "execution_count": 65,
   "id": "5f2b706f",
   "metadata": {},
   "outputs": [
    {
     "name": "stdout",
     "output_type": "stream",
     "text": [
      "tensor([[[[[0., 0.]],\n",
      "\n",
      "          [[0., 0.]]]],\n",
      "\n",
      "\n",
      "\n",
      "        [[[[0., 0.]],\n",
      "\n",
      "          [[0., 0.]]]]])\n",
      "tensor([[[0., 0.],\n",
      "         [0., 0.]],\n",
      "\n",
      "        [[0., 0.],\n",
      "         [0., 0.]]])\n",
      "tensor([[[[[0., 0.]],\n",
      "\n",
      "          [[0., 0.]]]],\n",
      "\n",
      "\n",
      "\n",
      "        [[[[0., 0.]],\n",
      "\n",
      "          [[0., 0.]]]]])\n",
      "tensor([[[[0., 0.]],\n",
      "\n",
      "         [[0., 0.]]],\n",
      "\n",
      "\n",
      "        [[[0., 0.]],\n",
      "\n",
      "         [[0., 0.]]]])\n",
      "tensor([[[0., 0.],\n",
      "         [0., 0.]],\n",
      "\n",
      "        [[0., 0.],\n",
      "         [0., 0.]]])\n",
      "tensor([[[[0., 0.]],\n",
      "\n",
      "         [[0., 0.]]],\n",
      "\n",
      "\n",
      "        [[[0., 0.]],\n",
      "\n",
      "         [[0., 0.]]]])\n",
      "torch.Size([2, 2, 1, 2])\n"
     ]
    }
   ],
   "source": [
    "x = torch.zeros(2, 1, 2, 1, 2)\n",
    "print(x)\n",
    "\n",
    "y = torch.squeeze(x)\n",
    "print(y)\n",
    "\n",
    "y = torch.squeeze(x, 0)\n",
    "print(y)\n",
    "\n",
    "y = torch.squeeze(x, 1)\n",
    "print(y)\n",
    "\n",
    "y = torch.squeeze(x, (1, 2, 3))\n",
    "print(y)\n",
    "\n",
    "y = torch.squeeze(x, (0,1,2))\n",
    "print(y)\n",
    "print(y.size())\n",
    "#review"
   ]
  },
  {
   "attachments": {},
   "cell_type": "markdown",
   "id": "f1b6dac7",
   "metadata": {},
   "source": [
    "Question \n",
    "```\n",
    "y = torch.squeeze(x, (1, 2, 3))\n",
    "# torch.Size([2, 2, 2])\n",
    "```\n",
    "\n",
    "> squeeze default int value of parameter is 1 that mean, it just remove only 1 dimension so x size [2,1,2,1,2] remove only 1 dimesion but they give a range of applying squeez function (1,2,3) that mean, squeez function will be applied only index of x[1:3] so result size is [2,2,2]"
   ]
  },
  {
   "cell_type": "code",
   "execution_count": 66,
   "id": "b1c75067",
   "metadata": {},
   "outputs": [
    {
     "name": "stdout",
     "output_type": "stream",
     "text": [
      "tensor([[1],\n",
      "        [2],\n",
      "        [3]])\n",
      "---t9---\n",
      "dtype :  torch.int64\n",
      "element :  tensor([1, 2, 3])\n",
      "dimension :  1\n",
      "shape :  torch.Size([3])\n",
      "\n",
      "---t10---\n",
      "dtype :  torch.int64\n",
      "element :  tensor([[1],\n",
      "        [2],\n",
      "        [3]])\n",
      "dimension :  2\n",
      "shape :  torch.Size([3, 1])\n"
     ]
    }
   ],
   "source": [
    "t9 = torch.tensor([1,2,3])\n",
    "\n",
    "t10 = t9.unsqueeze(1)\n",
    "print(t10)\n",
    "\n",
    "print(\"---t9---\")\n",
    "print_info(t9)\n",
    "print(\"\")\n",
    "print(\"---t10---\")\n",
    "print_info(t10)"
   ]
  },
  {
   "attachments": {},
   "cell_type": "markdown",
   "id": "aa8a5fdc",
   "metadata": {},
   "source": [
    "> Unsquez : add a new dimension to the nesor at the spcified position\n",
    "\n",
    "dim = n\n",
    "\n",
    "n = dimension where will add new dimension "
   ]
  },
  {
   "cell_type": "code",
   "execution_count": 67,
   "id": "26a05b56",
   "metadata": {},
   "outputs": [
    {
     "name": "stdout",
     "output_type": "stream",
     "text": [
      "dtype :  torch.int64\n",
      "element :  tensor([[[1, 2, 3]],\n",
      "\n",
      "        [[4, 5, 6]]])\n",
      "dimension :  3\n",
      "shape :  torch.Size([2, 1, 3])\n"
     ]
    }
   ],
   "source": [
    "t11 = torch.tensor(\n",
    "    [[1,2,3],\n",
    "     [4,5,6]]\n",
    ")\n",
    "t12 = t11.unsqueeze(1)\n",
    "\n",
    "print_info(t12)"
   ]
  },
  {
   "cell_type": "code",
   "execution_count": 68,
   "id": "e4d14a9a",
   "metadata": {},
   "outputs": [
    {
     "name": "stdout",
     "output_type": "stream",
     "text": [
      "dtype :  torch.int64\n",
      "element :  tensor([1, 2, 3, 4, 5, 6])\n",
      "dimension :  1\n",
      "shape :  torch.Size([6])\n"
     ]
    }
   ],
   "source": [
    "t13 = torch.tensor([[1,2,3],[4,5,6]])\n",
    "t14 = t13.flatten()\n",
    "print_info(t14)"
   ]
  },
  {
   "cell_type": "code",
   "execution_count": 69,
   "id": "d489357f",
   "metadata": {},
   "outputs": [
    {
     "name": "stdout",
     "output_type": "stream",
     "text": [
      "dtype :  torch.int64\n",
      "element :  tensor([1, 2, 3, 4, 5, 6, 7, 8])\n",
      "dimension :  1\n",
      "shape :  torch.Size([8])\n",
      "\n",
      "dtype :  torch.int64\n",
      "element :  tensor([[1, 2, 3, 4],\n",
      "        [5, 6, 7, 8]])\n",
      "dimension :  2\n",
      "shape :  torch.Size([2, 4])\n"
     ]
    }
   ],
   "source": [
    "t15 = torch.tensor([[[1, 2],\n",
    "                     [3, 4]],\n",
    "                    [[5, 6],\n",
    "                     [7, 8]]])\n",
    "t16 = torch.flatten(t15)\n",
    "\n",
    "t17 = torch.flatten(t15, start_dim=1)\n",
    "\n",
    "print_info(t16)\n",
    "print(\"\")\n",
    "print_info(t17)"
   ]
  },
  {
   "cell_type": "code",
   "execution_count": 70,
   "id": "d9761357",
   "metadata": {},
   "outputs": [
    {
     "name": "stdout",
     "output_type": "stream",
     "text": [
      "torch.Size([2, 3, 5])\n",
      "torch.Size([5, 2, 3])\n"
     ]
    }
   ],
   "source": [
    "t18 = torch.randn(2, 3, 5)\n",
    "\n",
    "print(t18.shape)  # >>> torch.Size([2, 3, 5])\n",
    "print(torch.permute(t18, (2, 0, 1)).size())  # >>> torch.Size([5, 2, 3])\n",
    "\n",
    "#review"
   ]
  },
  {
   "attachments": {},
   "cell_type": "markdown",
   "id": "9f613017",
   "metadata": {},
   "source": [
    "Transpose method"
   ]
  },
  {
   "cell_type": "code",
   "execution_count": 71,
   "id": "d4c67275",
   "metadata": {},
   "outputs": [
    {
     "name": "stdout",
     "output_type": "stream",
     "text": [
      "tensor([[1, 2, 3],\n",
      "        [4, 5, 6]])\n",
      "tensor([[1, 2, 3],\n",
      "        [4, 5, 6]])\n",
      "tensor([[1, 4],\n",
      "        [2, 5],\n",
      "        [3, 6]])\n"
     ]
    }
   ],
   "source": [
    "# Original tensor with shape (2, 3)\n",
    "t19 = torch.tensor([[1, 2, 3], \n",
    "                    [4, 5, 6]])\n",
    "\n",
    "# Permute the dimensions\n",
    "t20 = torch.permute(t19, dims=(0, 1))  # Shape becomes (2, 3) still\n",
    "t21 = torch.permute(t19, dims=(1, 0))  # Shape becomes (3, 2)\n",
    "\n",
    "print(t19)\n",
    "print(t20)\n",
    "print(t21)"
   ]
  },
  {
   "cell_type": "code",
   "execution_count": 72,
   "id": "ab9c150a",
   "metadata": {},
   "outputs": [
    {
     "name": "stdout",
     "output_type": "stream",
     "text": [
      "tensor([[1, 4],\n",
      "        [2, 5],\n",
      "        [3, 6]])\n"
     ]
    }
   ],
   "source": [
    "t22 = torch.transpose(t19, 0, 1)  # Shape becomes (3, 2)\n",
    "print(t22)"
   ]
  },
  {
   "cell_type": "code",
   "execution_count": 73,
   "id": "bf4bfe32",
   "metadata": {},
   "outputs": [
    {
     "name": "stdout",
     "output_type": "stream",
     "text": [
      "tensor([[1, 4],\n",
      "        [2, 5],\n",
      "        [3, 6]])\n"
     ]
    }
   ],
   "source": [
    "t23 = torch.t(t19)  # Shape becomes (3, 2)\n",
    "print(t23)"
   ]
  },
  {
   "attachments": {},
   "cell_type": "markdown",
   "id": "5277d670",
   "metadata": {},
   "source": [
    "## Tensor Concat"
   ]
  },
  {
   "cell_type": "code",
   "execution_count": 87,
   "id": "45a274b6",
   "metadata": {},
   "outputs": [
    {
     "name": "stdout",
     "output_type": "stream",
     "text": [
      "dtype :  torch.float32\n",
      "element :  tensor([[[0., 0., 0.],\n",
      "         [0., 0., 0.],\n",
      "         [0., 0., 0.],\n",
      "         [0., 0., 0.],\n",
      "         [0., 0., 0.],\n",
      "         [0., 0., 0.]],\n",
      "\n",
      "        [[0., 0., 0.],\n",
      "         [0., 0., 0.],\n",
      "         [0., 0., 0.],\n",
      "         [0., 0., 0.],\n",
      "         [0., 0., 0.],\n",
      "         [0., 0., 0.]]])\n",
      "dimension :  3\n",
      "shape :  torch.Size([2, 6, 3])\n"
     ]
    }
   ],
   "source": [
    "t1 = torch.zeros([2, 1, 3])\n",
    "t2 = torch.zeros([2, 3, 3])\n",
    "t3 = torch.zeros([2, 2, 3])\n",
    "\n",
    "t4 = torch.cat([t1,t2,t3], dim = 1)\n",
    "print_info(t4)"
   ]
  },
  {
   "attachments": {},
   "cell_type": "markdown",
   "id": "a3d0d1ac",
   "metadata": {},
   "source": [
    "> what if a different matrix shapes?\n",
    "> > we can't calculate followed by linear algebra theory. so it makes error"
   ]
  },
  {
   "cell_type": "code",
   "execution_count": 88,
   "id": "4c439e01",
   "metadata": {},
   "outputs": [
    {
     "ename": "RuntimeError",
     "evalue": "Sizes of tensors must match except in dimension 1. Expected size 2 but got size 3 for tensor number 1 in the list.",
     "output_type": "error",
     "traceback": [
      "\u001b[0;31m---------------------------------------------------------------------------\u001b[0m",
      "\u001b[0;31mRuntimeError\u001b[0m                              Traceback (most recent call last)",
      "Cell \u001b[0;32mIn[88], line 5\u001b[0m\n\u001b[1;32m      2\u001b[0m test2 \u001b[39m=\u001b[39m torch\u001b[39m.\u001b[39mzeros([\u001b[39m2\u001b[39m,\u001b[39m1\u001b[39m,\u001b[39m1\u001b[39m,\u001b[39m3\u001b[39m])\n\u001b[1;32m      3\u001b[0m test3 \u001b[39m=\u001b[39m torch\u001b[39m.\u001b[39mzeros([\u001b[39m3\u001b[39m,\u001b[39m4\u001b[39m,\u001b[39m1\u001b[39m,\u001b[39m2\u001b[39m])\n\u001b[0;32m----> 5\u001b[0m t_result \u001b[39m=\u001b[39m torch\u001b[39m.\u001b[39;49mcat([test1,test2,test3], dim \u001b[39m=\u001b[39;49m \u001b[39m1\u001b[39;49m)\n",
      "\u001b[0;31mRuntimeError\u001b[0m: Sizes of tensors must match except in dimension 1. Expected size 2 but got size 3 for tensor number 1 in the list."
     ]
    }
   ],
   "source": [
    "test1 = torch.zeros([2,3,1,2])\n",
    "test2 = torch.zeros([2,1,1,3])\n",
    "test3 = torch.zeros([3,4,1,2])\n",
    "\n",
    "t_result = torch.cat([test1,test2,test3], dim = 1)"
   ]
  },
  {
   "cell_type": "code",
   "execution_count": 89,
   "id": "3905eb69",
   "metadata": {},
   "outputs": [
    {
     "name": "stdout",
     "output_type": "stream",
     "text": [
      "dtype :  torch.int64\n",
      "element :  tensor([0, 1, 2, 3, 4, 5, 6, 7])\n",
      "dimension :  1\n",
      "shape :  torch.Size([8])\n"
     ]
    }
   ],
   "source": [
    "t5 = torch.arange(0, 3)  # tensor([0, 1, 2])\n",
    "t6 = torch.arange(3, 8)  # tensor([3, 4, 5, 6, 7])\n",
    "\n",
    "t7 = torch.cat((t5, t6), dim=0)\n",
    "\n",
    "print_info(t7)"
   ]
  },
  {
   "cell_type": "code",
   "execution_count": 90,
   "id": "cc0cf7a7",
   "metadata": {},
   "outputs": [
    {
     "name": "stdout",
     "output_type": "stream",
     "text": [
      "dtype :  torch.int64\n",
      "element :  tensor([[0, 1, 2],\n",
      "        [3, 4, 5]])\n",
      "dimension :  2\n",
      "shape :  torch.Size([2, 3])\n"
     ]
    }
   ],
   "source": [
    "t8 = torch.arange(0, 6).reshape(2, 3)  # torch.Size([2, 3])\n",
    "print_info(t8)"
   ]
  },
  {
   "cell_type": "code",
   "execution_count": 91,
   "id": "d92ab319",
   "metadata": {},
   "outputs": [
    {
     "name": "stdout",
     "output_type": "stream",
     "text": [
      "dtype :  torch.int64\n",
      "element :  tensor([[ 6,  7,  8],\n",
      "        [ 9, 10, 11]])\n",
      "dimension :  2\n",
      "shape :  torch.Size([2, 3])\n"
     ]
    }
   ],
   "source": [
    "t9 = torch.arange(6, 12).reshape(2, 3)  # torch.Size([2, 3])\n",
    "print_info(t9)"
   ]
  },
  {
   "cell_type": "code",
   "execution_count": 92,
   "id": "50343613",
   "metadata": {},
   "outputs": [
    {
     "name": "stdout",
     "output_type": "stream",
     "text": [
      "dtype :  torch.int64\n",
      "element :  tensor([[ 0,  1,  2],\n",
      "        [ 3,  4,  5],\n",
      "        [ 6,  7,  8],\n",
      "        [ 9, 10, 11]])\n",
      "dimension :  2\n",
      "shape :  torch.Size([4, 3])\n"
     ]
    }
   ],
   "source": [
    "t10 = torch.cat((t8, t9), dim=0)\n",
    "print_info(t10)"
   ]
  },
  {
   "cell_type": "code",
   "execution_count": 93,
   "id": "cd5c36df",
   "metadata": {},
   "outputs": [
    {
     "name": "stdout",
     "output_type": "stream",
     "text": [
      "dtype :  torch.int64\n",
      "element :  tensor([[ 0,  1,  2,  6,  7,  8],\n",
      "        [ 3,  4,  5,  9, 10, 11]])\n",
      "dimension :  2\n",
      "shape :  torch.Size([2, 6])\n"
     ]
    }
   ],
   "source": [
    "t11 = torch.cat((t8, t9), dim=1)\n",
    "print_info(t11)"
   ]
  },
  {
   "cell_type": "code",
   "execution_count": 96,
   "id": "a2d9da6f",
   "metadata": {},
   "outputs": [
    {
     "name": "stdout",
     "output_type": "stream",
     "text": [
      "tensor([[0, 1, 2],\n",
      "        [3, 4, 5]])\n",
      "\n",
      "tensor([[ 6,  7,  8],\n",
      "        [ 9, 10, 11]])\n",
      "\n",
      "tensor([[12, 13, 14],\n",
      "        [15, 16, 17]])\n"
     ]
    }
   ],
   "source": [
    "t12 = torch.arange(0, 6).reshape(2, 3)  # torch.Size([2, 3])\n",
    "t13 = torch.arange(6, 12).reshape(2, 3)  # torch.Size([2, 3])\n",
    "t14 = torch.arange(12, 18).reshape(2, 3)  # torch.Size([2, 3])\n",
    "\n",
    "print(t12)\n",
    "print(\"\")\n",
    "print(t13)\n",
    "print(\"\")\n",
    "print(t14)"
   ]
  },
  {
   "cell_type": "code",
   "execution_count": 98,
   "id": "af4ec1a3",
   "metadata": {},
   "outputs": [
    {
     "name": "stdout",
     "output_type": "stream",
     "text": [
      "dtype :  torch.int64\n",
      "element :  tensor([[ 0,  1,  2],\n",
      "        [ 3,  4,  5],\n",
      "        [ 6,  7,  8],\n",
      "        [ 9, 10, 11],\n",
      "        [12, 13, 14],\n",
      "        [15, 16, 17]])\n",
      "dimension :  2\n",
      "shape :  torch.Size([6, 3])\n"
     ]
    }
   ],
   "source": [
    "t15 = torch.cat((t12,t13,t14),dim = 0)\n",
    "print_info(t15)"
   ]
  },
  {
   "attachments": {},
   "cell_type": "markdown",
   "id": "00d1d492",
   "metadata": {},
   "source": [
    "> what if use same variable? it will be duplicate for new row or colum?\n",
    "> > yes"
   ]
  },
  {
   "cell_type": "code",
   "execution_count": 99,
   "id": "2f4f4ae1",
   "metadata": {},
   "outputs": [
    {
     "name": "stdout",
     "output_type": "stream",
     "text": [
      "dtype :  torch.int64\n",
      "element :  tensor([[0, 1, 2],\n",
      "        [3, 4, 5],\n",
      "        [0, 1, 2],\n",
      "        [3, 4, 5],\n",
      "        [0, 1, 2],\n",
      "        [3, 4, 5]])\n",
      "dimension :  2\n",
      "shape :  torch.Size([6, 3])\n"
     ]
    }
   ],
   "source": [
    "test = torch.cat((t12,t12,t12),dim = 0)\n",
    "print_info(test)"
   ]
  },
  {
   "cell_type": "code",
   "execution_count": 100,
   "id": "0043d93f",
   "metadata": {},
   "outputs": [
    {
     "name": "stdout",
     "output_type": "stream",
     "text": [
      "dtype :  torch.int64\n",
      "element :  tensor([[ 0,  1,  2,  6,  7,  8, 12, 13, 14],\n",
      "        [ 3,  4,  5,  9, 10, 11, 15, 16, 17]])\n",
      "dimension :  2\n",
      "shape :  torch.Size([2, 9])\n"
     ]
    }
   ],
   "source": [
    "t16 = torch.cat((t12, t13, t14), dim=1)\n",
    "print_info(t16)"
   ]
  },
  {
   "cell_type": "code",
   "execution_count": 109,
   "id": "08d4fb49",
   "metadata": {},
   "outputs": [
    {
     "name": "stdout",
     "output_type": "stream",
     "text": [
      "arange :  tensor([0, 1, 2, 3, 4, 5])\n",
      "reshape :  tensor([[[0, 1, 2],\n",
      "         [3, 4, 5]]])\n",
      "\n",
      "\n",
      "dtype :  torch.int64\n",
      "element :  tensor([[[0, 1, 2],\n",
      "         [3, 4, 5]]])\n",
      "dimension :  3\n",
      "shape :  torch.Size([1, 2, 3])\n"
     ]
    }
   ],
   "source": [
    "t17 = torch.arange(0,6)\n",
    "print(\"arange : \",t17)\n",
    "t17 = t17.reshape(1,2,3)\n",
    "print(\"reshape : \", t17)\n",
    "\n",
    "print(\"\")\n",
    "print(\"\")\n",
    "\n",
    "print_info(t17)\n"
   ]
  },
  {
   "cell_type": "code",
   "execution_count": 110,
   "id": "b87ff99e",
   "metadata": {},
   "outputs": [],
   "source": [
    "t18 = torch.arange(6,12).reshape(1,2,3)"
   ]
  },
  {
   "cell_type": "code",
   "execution_count": 111,
   "id": "1451cb82",
   "metadata": {},
   "outputs": [
    {
     "name": "stdout",
     "output_type": "stream",
     "text": [
      "dtype :  torch.int64\n",
      "element :  tensor([[[ 0,  1,  2],\n",
      "         [ 3,  4,  5]],\n",
      "\n",
      "        [[ 6,  7,  8],\n",
      "         [ 9, 10, 11]]])\n",
      "dimension :  3\n",
      "shape :  torch.Size([2, 2, 3])\n"
     ]
    }
   ],
   "source": [
    "t19 = torch.cat((t17,t18), dim = 0)\n",
    "print_info(t19)"
   ]
  },
  {
   "cell_type": "code",
   "execution_count": 112,
   "id": "7a7c3cae",
   "metadata": {},
   "outputs": [
    {
     "name": "stdout",
     "output_type": "stream",
     "text": [
      "dtype :  torch.int64\n",
      "element :  tensor([[[ 0,  1,  2],\n",
      "         [ 3,  4,  5],\n",
      "         [ 6,  7,  8],\n",
      "         [ 9, 10, 11]]])\n",
      "dimension :  3\n",
      "shape :  torch.Size([1, 4, 3])\n"
     ]
    }
   ],
   "source": [
    "t20 = torch.cat((t17,t18), dim = 1)\n",
    "print_info(t20)"
   ]
  },
  {
   "cell_type": "code",
   "execution_count": 114,
   "id": "01736f55",
   "metadata": {},
   "outputs": [
    {
     "name": "stdout",
     "output_type": "stream",
     "text": [
      "dtype :  torch.int64\n",
      "element :  tensor([[[ 0,  1,  2,  6,  7,  8],\n",
      "         [ 3,  4,  5,  9, 10, 11]]])\n",
      "dimension :  3\n",
      "shape :  torch.Size([1, 2, 6])\n"
     ]
    }
   ],
   "source": [
    "t21 = torch.cat((t17, t18), dim=2)\n",
    "print_info(t21)"
   ]
  },
  {
   "attachments": {},
   "cell_type": "markdown",
   "id": "c3be93bc",
   "metadata": {},
   "source": [
    "result = depend on dim value each matrix will concat \n",
    "\n",
    "- example : when dim = 0, shape index[0] is increased \n",
    "- example : when dim = 1, shape idnex[1] is increased\n",
    "- example : when dim = 2, shape idnex[2] is increased"
   ]
  },
  {
   "attachments": {},
   "cell_type": "markdown",
   "id": "71a09440",
   "metadata": {},
   "source": [
    "## Torch Stacking"
   ]
  },
  {
   "cell_type": "code",
   "execution_count": 115,
   "id": "8f78b3ec",
   "metadata": {},
   "outputs": [],
   "source": [
    "t1 = torch.tensor([[1, 2, 3], \n",
    "                   [4, 5, 6]])\n",
    "t2 = torch.tensor([[7, 8, 9], \n",
    "                   [10, 11, 12]])"
   ]
  },
  {
   "cell_type": "code",
   "execution_count": 118,
   "id": "92e342d8",
   "metadata": {},
   "outputs": [
    {
     "name": "stdout",
     "output_type": "stream",
     "text": [
      "dtype :  torch.int64\n",
      "element :  tensor([[1, 2, 3],\n",
      "        [4, 5, 6]])\n",
      "dimension :  2\n",
      "shape :  torch.Size([2, 3])\n",
      "\n",
      "\n",
      "dtype :  torch.int64\n",
      "element :  tensor([[ 7,  8,  9],\n",
      "        [10, 11, 12]])\n",
      "dimension :  2\n",
      "shape :  torch.Size([2, 3])\n"
     ]
    }
   ],
   "source": [
    "print_info(t1)\n",
    "print(\"\")\n",
    "print(\"\")\n",
    "print_info(t2)"
   ]
  },
  {
   "cell_type": "code",
   "execution_count": 120,
   "id": "15da7428",
   "metadata": {},
   "outputs": [
    {
     "name": "stdout",
     "output_type": "stream",
     "text": [
      "dtype :  torch.int64\n",
      "element :  tensor([[[ 1,  2,  3],\n",
      "         [ 4,  5,  6]],\n",
      "\n",
      "        [[ 7,  8,  9],\n",
      "         [10, 11, 12]]])\n",
      "dimension :  3\n",
      "shape :  torch.Size([2, 2, 3])\n"
     ]
    }
   ],
   "source": [
    "t3 = torch.stack([t1, t2], dim=0)\n",
    "print_info(t3)"
   ]
  },
  {
   "cell_type": "code",
   "execution_count": 125,
   "id": "88abea5c",
   "metadata": {},
   "outputs": [
    {
     "name": "stdout",
     "output_type": "stream",
     "text": [
      "dtype :  torch.int64\n",
      "element :  tensor([[[ 1,  2,  3],\n",
      "         [ 4,  5,  6]],\n",
      "\n",
      "        [[ 7,  8,  9],\n",
      "         [10, 11, 12]]])\n",
      "dimension :  3\n",
      "shape :  torch.Size([2, 2, 3])\n"
     ]
    }
   ],
   "source": [
    "t4 = torch.cat([t1.unsqueeze(dim=0), t2.unsqueeze(dim=0)], dim=0)\n",
    "print_info(t4)"
   ]
  },
  {
   "cell_type": "code",
   "execution_count": 128,
   "id": "59f2763b",
   "metadata": {},
   "outputs": [
    {
     "name": "stdout",
     "output_type": "stream",
     "text": [
      "dtype :  torch.int64\n",
      "element :  tensor([[[ 1,  2,  3],\n",
      "         [ 7,  8,  9]],\n",
      "\n",
      "        [[ 4,  5,  6],\n",
      "         [10, 11, 12]]])\n",
      "dimension :  3\n",
      "shape :  torch.Size([2, 2, 3])\n",
      "True\n"
     ]
    }
   ],
   "source": [
    "t5 = torch.stack([t1, t2], dim=1)\n",
    "t6 = torch.cat([t1.unsqueeze(dim=1), t2.unsqueeze(dim=1)], dim=1)\n",
    "print_info(t5)\n",
    "print(t5.equal(t6))"
   ]
  },
  {
   "cell_type": "code",
   "execution_count": 130,
   "id": "95afe214",
   "metadata": {},
   "outputs": [
    {
     "name": "stdout",
     "output_type": "stream",
     "text": [
      "dtype :  torch.int64\n",
      "element :  tensor([[[ 1,  7],\n",
      "         [ 2,  8],\n",
      "         [ 3,  9]],\n",
      "\n",
      "        [[ 4, 10],\n",
      "         [ 5, 11],\n",
      "         [ 6, 12]]])\n",
      "dimension :  3\n",
      "shape :  torch.Size([2, 3, 2])\n",
      "True\n"
     ]
    }
   ],
   "source": [
    "t7 = torch.stack([t1, t2], dim=2)\n",
    "t8 = torch.cat([t1.unsqueeze(dim=2), t2.unsqueeze(dim=2)], dim=2)\n",
    "print_info(t7)\n",
    "print(t7.equal(t8))\n",
    "\n",
    "#review"
   ]
  },
  {
   "cell_type": "code",
   "execution_count": 131,
   "id": "21bc928c",
   "metadata": {},
   "outputs": [
    {
     "name": "stdout",
     "output_type": "stream",
     "text": [
      "torch.Size([3]) torch.Size([3])\n"
     ]
    }
   ],
   "source": [
    "t9 = torch.arange(0, 3)  # tensor([0, 1, 2])\n",
    "t10 = torch.arange(3, 6)  # tensor([3, 4, 5])\n",
    "\n",
    "print(t9.size(), t10.size())"
   ]
  },
  {
   "cell_type": "code",
   "execution_count": 133,
   "id": "1dc5dd7c",
   "metadata": {},
   "outputs": [
    {
     "name": "stdout",
     "output_type": "stream",
     "text": [
      "dtype :  torch.int64\n",
      "element :  tensor([[0, 1, 2],\n",
      "        [3, 4, 5]])\n",
      "dimension :  2\n",
      "shape :  torch.Size([2, 3])\n"
     ]
    }
   ],
   "source": [
    "t11 = torch.stack((t9, t10), dim=0)\n",
    "print_info(t11)"
   ]
  },
  {
   "cell_type": "code",
   "execution_count": 134,
   "id": "b0c4804c",
   "metadata": {},
   "outputs": [
    {
     "name": "stdout",
     "output_type": "stream",
     "text": [
      "dtype :  torch.int64\n",
      "element :  tensor([[0, 1, 2],\n",
      "        [3, 4, 5]])\n",
      "dimension :  2\n",
      "shape :  torch.Size([2, 3])\n",
      "True\n"
     ]
    }
   ],
   "source": [
    "t12 = torch.cat((t9.unsqueeze(0), t10.unsqueeze(0)), dim=0)\n",
    "print_info(t12)\n",
    "print(t11.equal(t12))"
   ]
  },
  {
   "cell_type": "code",
   "execution_count": 136,
   "id": "6d100120",
   "metadata": {},
   "outputs": [
    {
     "name": "stdout",
     "output_type": "stream",
     "text": [
      "dtype :  torch.int64\n",
      "element :  tensor([[0, 3],\n",
      "        [1, 4],\n",
      "        [2, 5]])\n",
      "dimension :  2\n",
      "shape :  torch.Size([3, 2])\n"
     ]
    }
   ],
   "source": [
    "t13 = torch.stack((t9, t10), dim=1)\n",
    "print_info(t13)"
   ]
  },
  {
   "cell_type": "code",
   "execution_count": 137,
   "id": "b54f9bf1",
   "metadata": {},
   "outputs": [
    {
     "name": "stdout",
     "output_type": "stream",
     "text": [
      "True\n"
     ]
    }
   ],
   "source": [
    "t14 = torch.cat((t9.unsqueeze(1), t10.unsqueeze(1)), dim=1)\n",
    "print(t13.equal(t14))\n",
    "# >>> True"
   ]
  },
  {
   "attachments": {},
   "cell_type": "markdown",
   "id": "a5fcc0f4",
   "metadata": {},
   "source": [
    "depend on parameter dim, it will be converted that matrix will be concated\n",
    "\n",
    "- dim = 0 : row\n",
    "- dim = 1 : colum "
   ]
  },
  {
   "attachments": {},
   "cell_type": "markdown",
   "id": "dae4337f",
   "metadata": {},
   "source": [
    "## Tensor vstack hstack"
   ]
  },
  {
   "cell_type": "code",
   "execution_count": 141,
   "id": "74aceeb5",
   "metadata": {},
   "outputs": [
    {
     "name": "stdout",
     "output_type": "stream",
     "text": [
      "dtype :  torch.int64\n",
      "element \n",
      " tensor([[1, 2, 3],\n",
      "        [4, 5, 6]])\n",
      "dimension :  2\n",
      "shape :  torch.Size([2, 3])\n"
     ]
    }
   ],
   "source": [
    "t1 = torch.tensor([1, 2, 3])\n",
    "t2 = torch.tensor([4, 5, 6])\n",
    "t3 = torch.vstack((t1, t2))\n",
    "\n",
    "print_info(t3)"
   ]
  },
  {
   "cell_type": "code",
   "execution_count": 142,
   "id": "f42e0977",
   "metadata": {},
   "outputs": [
    {
     "name": "stdout",
     "output_type": "stream",
     "text": [
      "dtype :  torch.int64\n",
      "element \n",
      " tensor([[1],\n",
      "        [2],\n",
      "        [3],\n",
      "        [4],\n",
      "        [5],\n",
      "        [6]])\n",
      "dimension :  2\n",
      "shape :  torch.Size([6, 1])\n"
     ]
    }
   ],
   "source": [
    "t4 = torch.tensor([[1], [2], [3]])\n",
    "t5 = torch.tensor([[4], [5], [6]])\n",
    "t6 = torch.vstack((t4, t5))\n",
    "\n",
    "print_info(t6)"
   ]
  },
  {
   "cell_type": "code",
   "execution_count": 143,
   "id": "473e8f0a",
   "metadata": {},
   "outputs": [],
   "source": [
    "t7 = torch.tensor([\n",
    "  [[1, 2, 3], [4, 5, 6]],\n",
    "  [[7, 8, 9], [10, 11, 12]]\n",
    "])"
   ]
  },
  {
   "cell_type": "code",
   "execution_count": 144,
   "id": "b013800f",
   "metadata": {},
   "outputs": [
    {
     "name": "stdout",
     "output_type": "stream",
     "text": [
      "dtype :  torch.int64\n",
      "element \n",
      " tensor([[[ 1,  2,  3],\n",
      "         [ 4,  5,  6]],\n",
      "\n",
      "        [[ 7,  8,  9],\n",
      "         [10, 11, 12]]])\n",
      "dimension :  3\n",
      "shape :  torch.Size([2, 2, 3])\n"
     ]
    }
   ],
   "source": [
    "print_info(t7)"
   ]
  },
  {
   "cell_type": "code",
   "execution_count": 145,
   "id": "c0edd357",
   "metadata": {},
   "outputs": [],
   "source": [
    "t8 = torch.tensor([\n",
    "  [[13, 14, 15], [16, 17, 18]],\n",
    "  [[19, 20, 21], [22, 23, 24]]\n",
    "])"
   ]
  },
  {
   "cell_type": "code",
   "execution_count": 146,
   "id": "7c061731",
   "metadata": {},
   "outputs": [
    {
     "name": "stdout",
     "output_type": "stream",
     "text": [
      "dtype :  torch.int64\n",
      "element \n",
      " tensor([[[13, 14, 15],\n",
      "         [16, 17, 18]],\n",
      "\n",
      "        [[19, 20, 21],\n",
      "         [22, 23, 24]]])\n",
      "dimension :  3\n",
      "shape :  torch.Size([2, 2, 3])\n"
     ]
    }
   ],
   "source": [
    "print_info(t8)"
   ]
  },
  {
   "cell_type": "code",
   "execution_count": 147,
   "id": "e9fdf118",
   "metadata": {},
   "outputs": [
    {
     "name": "stdout",
     "output_type": "stream",
     "text": [
      "dtype :  torch.int64\n",
      "element \n",
      " tensor([[[ 1,  2,  3],\n",
      "         [ 4,  5,  6]],\n",
      "\n",
      "        [[ 7,  8,  9],\n",
      "         [10, 11, 12]],\n",
      "\n",
      "        [[13, 14, 15],\n",
      "         [16, 17, 18]],\n",
      "\n",
      "        [[19, 20, 21],\n",
      "         [22, 23, 24]]])\n",
      "dimension :  3\n",
      "shape :  torch.Size([4, 2, 3])\n"
     ]
    }
   ],
   "source": [
    "t9 = torch.vstack([t7, t8])\n",
    "print_info(t9)"
   ]
  },
  {
   "cell_type": "code",
   "execution_count": 148,
   "id": "e388e100",
   "metadata": {},
   "outputs": [
    {
     "name": "stdout",
     "output_type": "stream",
     "text": [
      "dtype :  torch.int64\n",
      "element \n",
      " tensor([1, 2, 3, 4, 5, 6])\n",
      "dimension :  1\n",
      "shape :  torch.Size([6])\n"
     ]
    }
   ],
   "source": [
    "t10 = torch.tensor([1, 2, 3])\n",
    "t11 = torch.tensor([4, 5, 6])\n",
    "t12 = torch.hstack((t10, t11))\n",
    "\n",
    "print_info(t12)"
   ]
  },
  {
   "cell_type": "code",
   "execution_count": 149,
   "id": "e1ab2dda",
   "metadata": {},
   "outputs": [
    {
     "name": "stdout",
     "output_type": "stream",
     "text": [
      "dtype :  torch.int64\n",
      "element \n",
      " tensor([[1, 4],\n",
      "        [2, 5],\n",
      "        [3, 6]])\n",
      "dimension :  2\n",
      "shape :  torch.Size([3, 2])\n"
     ]
    }
   ],
   "source": [
    "t13 = torch.tensor([[1], [2], [3]])\n",
    "t14 = torch.tensor([[4], [5], [6]])\n",
    "t15 = torch.hstack((t13, t14))\n",
    "print_info(t15)\n",
    "\n",
    "#review"
   ]
  },
  {
   "cell_type": "code",
   "execution_count": 152,
   "id": "6e92f08c",
   "metadata": {},
   "outputs": [
    {
     "name": "stdout",
     "output_type": "stream",
     "text": [
      "dtype :  torch.int64\n",
      "element \n",
      " tensor([[[ 1,  2,  3],\n",
      "         [ 4,  5,  6]],\n",
      "\n",
      "        [[ 7,  8,  9],\n",
      "         [10, 11, 12]]])\n",
      "dimension :  3\n",
      "shape :  torch.Size([2, 2, 3])\n"
     ]
    }
   ],
   "source": [
    "t16 = torch.tensor([[[1, 2, 3], \n",
    "                     [4, 5, 6]],\n",
    "                    [[7, 8, 9], \n",
    "                     [10, 11, 12]]\n",
    "])\n",
    "\n",
    "print_info(t16)"
   ]
  },
  {
   "cell_type": "code",
   "execution_count": 155,
   "id": "71bcbae0",
   "metadata": {},
   "outputs": [
    {
     "name": "stdout",
     "output_type": "stream",
     "text": [
      "dtype :  torch.int64\n",
      "element \n",
      " tensor([[[13, 14, 15],\n",
      "         [16, 17, 18]],\n",
      "\n",
      "        [[19, 20, 21],\n",
      "         [22, 23, 24]]])\n",
      "dimension :  3\n",
      "shape :  torch.Size([2, 2, 3])\n",
      "dtype :  torch.int64\n",
      "element \n",
      " tensor([[[ 1,  2,  3],\n",
      "         [ 4,  5,  6],\n",
      "         [13, 14, 15],\n",
      "         [16, 17, 18]],\n",
      "\n",
      "        [[ 7,  8,  9],\n",
      "         [10, 11, 12],\n",
      "         [19, 20, 21],\n",
      "         [22, 23, 24]]])\n",
      "dimension :  3\n",
      "shape :  torch.Size([2, 4, 3])\n"
     ]
    }
   ],
   "source": [
    "t17 = torch.tensor([[[13, 14, 15], \n",
    "                     [16, 17, 18]],\n",
    "                    [[19, 20, 21], \n",
    "                     [22, 23, 24]]\n",
    "])\n",
    "print_info(t17)\n",
    "\n",
    "t18 = torch.hstack([t16, t17])\n",
    "print_info(t18)"
   ]
  },
  {
   "cell_type": "code",
   "execution_count": null,
   "id": "b07db080",
   "metadata": {},
   "outputs": [],
   "source": []
  }
 ],
 "metadata": {
  "kernelspec": {
   "display_name": "Python 3 (ipykernel)",
   "language": "python",
   "name": "python3"
  },
  "language_info": {
   "codemirror_mode": {
    "name": "ipython",
    "version": 3
   },
   "file_extension": ".py",
   "mimetype": "text/x-python",
   "name": "python",
   "nbconvert_exporter": "python",
   "pygments_lexer": "ipython3",
   "version": "3.10.12"
  }
 },
 "nbformat": 4,
 "nbformat_minor": 5
}
